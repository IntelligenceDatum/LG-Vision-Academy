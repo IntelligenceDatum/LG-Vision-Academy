{
 "cells": [
  {
   "cell_type": "code",
   "execution_count": null,
   "metadata": {},
   "outputs": [],
   "source": [
    "# from google.colab import drive\n",
    "# drive.mount('/content/drive')"
   ]
  },
  {
   "cell_type": "code",
   "execution_count": null,
   "metadata": {},
   "outputs": [],
   "source": [
    "# cd /content/drive/Mydrive/LG_AI_2021/LG-Vision-Academy/basic_DL/Day1/"
   ]
  },
  {
   "cell_type": "markdown",
   "metadata": {},
   "source": [
    "# Numpy / Pytorch Basic\n",
    "\n",
    "본 자료는 LG AI CAMP의 `LG Vision Module3`를 위한 두번째 사전 자료입니다.\n",
    "\n",
    "Pytorch를 사용하는 것에 아직 미숙함을 가지고 계실 분들을 위해 만들어본 자료입니다.\n",
    "\n",
    "본 자료는 http://www.numpy.org/ 를 참고하여 만들었습니다."
   ]
  },
  {
   "cell_type": "markdown",
   "metadata": {},
   "source": [
    "# Numpy"
   ]
  },
  {
   "cell_type": "code",
   "execution_count": null,
   "metadata": {},
   "outputs": [],
   "source": [
    "import numpy as np"
   ]
  },
  {
   "cell_type": "code",
   "execution_count": null,
   "metadata": {},
   "outputs": [],
   "source": [
    "data = np.random.randn(2, 3)"
   ]
  },
  {
   "cell_type": "code",
   "execution_count": null,
   "metadata": {
    "scrolled": true
   },
   "outputs": [],
   "source": [
    "print (data)\n",
    "print (data*5)\n",
    "print (data+data)\n",
    "print (data.shape)\n",
    "print (data.dtype)"
   ]
  },
  {
   "cell_type": "markdown",
   "metadata": {},
   "source": [
    "- Data를 생성하는 여러 방법"
   ]
  },
  {
   "cell_type": "code",
   "execution_count": null,
   "metadata": {},
   "outputs": [],
   "source": [
    "data = # 모든 element가 zero인 array\n",
    "print (data)\n",
    "data = # 모든 element가 one인 array\n",
    "print (data)\n",
    "data = # Identity matrix\n",
    "print (data)"
   ]
  },
  {
   "cell_type": "markdown",
   "metadata": {},
   "source": [
    "- list와 차이점 및 벡터 내적"
   ]
  },
  {
   "cell_type": "code",
   "execution_count": null,
   "metadata": {},
   "outputs": [],
   "source": [
    "lst1 = [1, 2]\n",
    "lst2 = [3, 4]\n",
    "\n",
    "np1 = np.array([1, 2]) # numpy ndarray에 대한 정의\n",
    "np2 = np.array([3, 4]) # numpy ndarray에 대한 정의\n",
    "\n",
    "print (lst1 + lst2) \n",
    "print (np1 + np2) # 리스트에 대한 합과 ndarray에 대한 합이 어떻게 다른가?\n",
    "print (np1 * np2)\n",
    "\n",
    "print () # 모든 element에 대한 합\n",
    "print () # np1과 np2에 대한 내적 깂\n",
    "print (np.matmul(np1.reshape(1,-1), np2)[0]) # 1*2 1*2 연산안되므로 tor1을 reshape 함."
   ]
  },
  {
   "cell_type": "markdown",
   "metadata": {},
   "source": [
    "- 매트릭스의 곱 (Matrix Multiplication)"
   ]
  },
  {
   "cell_type": "code",
   "execution_count": null,
   "metadata": {},
   "outputs": [],
   "source": [
    "mat1 = # design your own matrix mat1\n",
    "mat2 = # design your own matrix mat2\n",
    "print (mat1.shape) # mat1에 대한 shape을 알아보는 단계\n",
    "print (mat2.shape) # mat2에 대한 shape을 알아보는 단계\n",
    "print () # matrix의 곱셈"
   ]
  },
  {
   "cell_type": "markdown",
   "metadata": {},
   "source": [
    "- 인덱싱 / 슬라이싱"
   ]
  },
  {
   "cell_type": "code",
   "execution_count": null,
   "metadata": {},
   "outputs": [],
   "source": [
    "data = np.random.randn(4,3)\n",
    "print (data)\n",
    "print (data[2, :])\n",
    "print (data[:, 1])\n",
    "print (data[2][1])"
   ]
  },
  {
   "cell_type": "markdown",
   "metadata": {},
   "source": [
    "- 기본적인 통계 관련 함수  "
   ]
  },
  {
   "cell_type": "code",
   "execution_count": null,
   "metadata": {},
   "outputs": [],
   "source": [
    "print () # 각 element의 합\n",
    "print () # 각 element의 평균\n",
    "print () # 각 element의 분산\n",
    "print () # 각 element의 표준편차"
   ]
  },
  {
   "cell_type": "markdown",
   "metadata": {},
   "source": [
    "- Numpy 조건문"
   ]
  },
  {
   "cell_type": "code",
   "execution_count": null,
   "metadata": {},
   "outputs": [],
   "source": [
    "print () # data 중 0보다 큰 element의 position을 알고 싶은 경우\n",
    "print () # data 중 0보다 큰 경우는 True를 반환, 작은 경우는 False를 반환\n",
    "print () # data 중 0보다 큰 element만 반환"
   ]
  },
  {
   "cell_type": "markdown",
   "metadata": {},
   "source": [
    "# Pytorch"
   ]
  },
  {
   "cell_type": "code",
   "execution_count": null,
   "metadata": {},
   "outputs": [],
   "source": [
    "import torch"
   ]
  },
  {
   "cell_type": "code",
   "execution_count": null,
   "metadata": {},
   "outputs": [],
   "source": [
    "data = torch.randn(2,3)\n",
    "data"
   ]
  },
  {
   "cell_type": "markdown",
   "metadata": {},
   "source": [
    "### Pytorch는 NumPy를 GPU의 사용을 용이하게 하는 tool이다."
   ]
  },
  {
   "cell_type": "code",
   "execution_count": null,
   "metadata": {},
   "outputs": [],
   "source": [
    "print (data)\n",
    "print (data*5)\n",
    "print (data+data)\n",
    "print (data.shape)\n",
    "print (data.dtype)"
   ]
  },
  {
   "cell_type": "markdown",
   "metadata": {},
   "source": [
    "- Data를 생성하는 여러 방법"
   ]
  },
  {
   "cell_type": "code",
   "execution_count": null,
   "metadata": {},
   "outputs": [],
   "source": [
    "data = torch.zeros([2,4])\n",
    "print (data)\n",
    "data = torch.ones([2,4])\n",
    "print (data)\n",
    "data = torch.eye(4)\n",
    "print (data)"
   ]
  },
  {
   "cell_type": "markdown",
   "metadata": {},
   "source": [
    "- list와 차이점 및 벡터 내적"
   ]
  },
  {
   "cell_type": "code",
   "execution_count": null,
   "metadata": {},
   "outputs": [],
   "source": [
    "lst1 = [1, 2]\n",
    "lst2 = [3, 4]\n",
    "\n",
    "tor1 = torch.tensor([1, 2])\n",
    "tor2 = torch.tensor([3, 4])\n",
    "\n",
    "print (lst1 + lst2)\n",
    "print (tor1 + tor2)\n",
    "print (tor1 * tor2)\n",
    "\n",
    "print (sum(tor1 + tor2))\n",
    "print (tor1.dot(tor2))\n",
    "print (torch.matmul(tor1.view(1,-1), tor2)[0]) # 1*2 1*2 연산안되므로 tor1을 reshape 함.\n"
   ]
  },
  {
   "cell_type": "markdown",
   "metadata": {},
   "source": [
    "- 매트릭스의 곱 (Matrix Multiplication)"
   ]
  },
  {
   "cell_type": "code",
   "execution_count": null,
   "metadata": {},
   "outputs": [],
   "source": [
    "mat1 = torch.tensor([[2, 5, 8], [5, 3, 1]])\n",
    "mat2 = torch.tensor([[3, 2], [5, 4], [7, 8]])\n",
    "print (mat1.shape) # mat.size()\n",
    "print (mat2.shape)\n",
    "print (torch.matmul(mat1, mat2))"
   ]
  },
  {
   "cell_type": "markdown",
   "metadata": {},
   "source": [
    "- 인덱싱 / 슬라이싱"
   ]
  },
  {
   "cell_type": "code",
   "execution_count": null,
   "metadata": {},
   "outputs": [],
   "source": [
    "data = torch.randn(4,3)\n",
    "print (data)\n",
    "print (data[2, :])\n",
    "print (data[:, 1])\n",
    "print (data[2][1])"
   ]
  },
  {
   "cell_type": "markdown",
   "metadata": {},
   "source": [
    "- 기본적인 통계 관련 함수  "
   ]
  },
  {
   "cell_type": "code",
   "execution_count": null,
   "metadata": {},
   "outputs": [],
   "source": [
    "print (torch.sum(data))\n",
    "print (torch.mean(data))\n",
    "print (torch.var(data))\n",
    "print (torch.std(data))\n",
    "print ()\n",
    "print (torch.sum(data).item())\n",
    "print (torch.mean(data).item())\n",
    "print (torch.var(data).item())\n",
    "print (torch.std(data).item())"
   ]
  },
  {
   "cell_type": "markdown",
   "metadata": {},
   "source": [
    "- Pytorch 조건문"
   ]
  },
  {
   "cell_type": "code",
   "execution_count": null,
   "metadata": {},
   "outputs": [],
   "source": [
    "print (torch.where(data>0, torch.ones(data.shape), torch.zeros(data.shape)))"
   ]
  },
  {
   "cell_type": "markdown",
   "metadata": {},
   "source": [
    "- Numpy와 호환 "
   ]
  },
  {
   "cell_type": "code",
   "execution_count": null,
   "metadata": {},
   "outputs": [],
   "source": [
    "import numpy"
   ]
  },
  {
   "cell_type": "code",
   "execution_count": null,
   "metadata": {},
   "outputs": [],
   "source": [
    "a = torch.ones(5)\n",
    "print (a)\n",
    "b = a.numpy()\n",
    "print (b)\n",
    "a = torch.from_numpy(b)\n",
    "print (a)"
   ]
  },
  {
   "cell_type": "markdown",
   "metadata": {},
   "source": [
    "### GPU의 사용"
   ]
  },
  {
   "cell_type": "code",
   "execution_count": null,
   "metadata": {},
   "outputs": [],
   "source": [
    "print () # GPU의 사용 여부를 알아내는 함수\n",
    "if : # 만약 GPU가 사용이 가능하다면\n",
    "    print(\"how many : {}\".format()) # GPU 개수를 알아내는 함수"
   ]
  },
  {
   "cell_type": "code",
   "execution_count": null,
   "metadata": {},
   "outputs": [],
   "source": [
    "device =  # 0번째 GPU를 device로 설정\n",
    "x = torch.tensor([1,1]). # GPU에 tensor를 집어넣자"
   ]
  },
  {
   "cell_type": "code",
   "execution_count": null,
   "metadata": {},
   "outputs": [],
   "source": [
    "x = torch.tensor([1,1]) # GPU에 tensor를 올리는 다른 방법?\n",
    "print (x)\n",
    "x = # x를 다시 cpu에 올리자 \n",
    "print (x)"
   ]
  },
  {
   "cell_type": "code",
   "execution_count": null,
   "metadata": {},
   "outputs": [],
   "source": [
    "# Computational Graph\n",
    "a = torch.tensor([2.], requires_grad = True)\n",
    "b = torch.tensor([1.], requires_grad = True)\n",
    "c = a + b\n",
    "d = b + 1\n",
    "e = c * d\n",
    "print (a)\n",
    "print (b)\n",
    "print (c)\n",
    "print (d)\n",
    "print (e)"
   ]
  },
  {
   "cell_type": "code",
   "execution_count": null,
   "metadata": {},
   "outputs": [],
   "source": [
    "# 아무런 연산을 진행하지 않아 None\n",
    "print (a.data) # a의 데이터에 대한 정보를 얻고 싶을 때\n",
    "print (a.grad) # a가 거쳐온 layer에 대한 미분값이 축적되는 것\n",
    "print (a.grad_fn) # 미분값을 계산한 함수에 대한 정보"
   ]
  },
  {
   "cell_type": "code",
   "execution_count": null,
   "metadata": {},
   "outputs": [],
   "source": [
    "e.backward(retain_graph=True) # gradient가 계산됨."
   ]
  },
  {
   "cell_type": "code",
   "execution_count": null,
   "metadata": {},
   "outputs": [],
   "source": [
    "print (a.grad)\n",
    "print (b.grad)\n",
    "print (c.grad)\n",
    "print (d.grad)\n",
    "print (e.grad)"
   ]
  },
  {
   "cell_type": "code",
   "execution_count": null,
   "metadata": {},
   "outputs": [],
   "source": [
    "# grad_fn도 계산해 보기!"
   ]
  },
  {
   "cell_type": "code",
   "execution_count": null,
   "metadata": {},
   "outputs": [],
   "source": [
    "# Computational Graph\n",
    "a = torch.tensor([2.], requires_grad = True)\n",
    "b = torch.tensor([1.], requires_grad = True)\n",
    "c = a + b\n",
    "d = b + 1\n",
    "e = c * d\n",
    "\n",
    "c.retain_grad()\n",
    "d.retain_grad()\n",
    "e.retain_grad()"
   ]
  },
  {
   "cell_type": "code",
   "execution_count": null,
   "metadata": {},
   "outputs": [],
   "source": [
    "e.backward(retain_graph=True)"
   ]
  },
  {
   "cell_type": "code",
   "execution_count": null,
   "metadata": {},
   "outputs": [],
   "source": [
    "print (a.grad)\n",
    "print (b.grad)\n",
    "print (c.grad)\n",
    "print (d.grad)\n",
    "print (e.grad)"
   ]
  },
  {
   "cell_type": "code",
   "execution_count": null,
   "metadata": {},
   "outputs": [],
   "source": [
    "a.grad.zero_()\n",
    "b.grad.zero_()\n",
    "c.grad.zero_()\n",
    "d.grad.zero_()\n",
    "e.grad.zero_()\n",
    "\n",
    "print (a.grad)\n",
    "print (b.grad)\n",
    "print (c.grad)\n",
    "print (d.grad)\n",
    "print (e.grad)"
   ]
  },
  {
   "cell_type": "code",
   "execution_count": null,
   "metadata": {},
   "outputs": [],
   "source": [
    "a = a.detach()\n",
    "print (a.requires_grad)"
   ]
  }
 ],
 "metadata": {
  "kernelspec": {
   "display_name": "Python 3",
   "language": "python",
   "name": "python3"
  },
  "language_info": {
   "codemirror_mode": {
    "name": "ipython",
    "version": 3
   },
   "file_extension": ".py",
   "mimetype": "text/x-python",
   "name": "python",
   "nbconvert_exporter": "python",
   "pygments_lexer": "ipython3",
   "version": "3.7.9"
  }
 },
 "nbformat": 4,
 "nbformat_minor": 4
}
