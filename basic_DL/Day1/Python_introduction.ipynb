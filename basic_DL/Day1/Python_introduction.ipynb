{
 "cells": [
  {
   "cell_type": "code",
   "execution_count": 1,
   "metadata": {},
   "outputs": [],
   "source": [
    "# from google.colab import drive\n",
    "# drive.mount('/content/drive')"
   ]
  },
  {
   "cell_type": "code",
   "execution_count": null,
   "metadata": {},
   "outputs": [],
   "source": [
    "# cd /content/drive/MyDrive/LG_AI_2021/LG-Vision-Academy/basic_DL/Day1/"
   ]
  },
  {
   "cell_type": "markdown",
   "metadata": {
    "id": "Wmz5yXQqnm67"
   },
   "source": [
    "# Python 기초 실습\n",
    "---\n",
    "\n",
    "본 주피터 노트북은 딥러닝의 기초 라이브러리인 파이토치를 배우기 전, 파이썬(Python) 언어에 대한 이해를 돕기 위해 만들어진 자료입니다.\n",
    "\n",
    "프로그래밍 언어 중 하나인 Python은 인간이 사고하는 방식대로 구현을 할 수 있는 매우 쉬운 언어입니다. 앞으로의 실습을 원활히 진행하기 위해서, 크게 다음의 4가지를 공부해보겠습니다.\n",
    "\n",
    "1. `자료형`\n",
    "2. `제어문`\n",
    "3. `함수`\n",
    "4. `클래스`"
   ]
  },
  {
   "cell_type": "markdown",
   "metadata": {
    "id": "qHgRpc_Knm69"
   },
   "source": [
    "# 파이썬 확인하기\n",
    "---\n",
    "\n",
    "구글 코랩(Colab) pdf 자료를 확인하여, 코랩을 통해 실습 자료를 실행해주세요.   \n",
    "아래의 셀을 실행했을 때 `Hello World!`가 정상적으로 출력되시면, 파이썬 사용에 아무 문제가 없는 것입니다."
   ]
  },
  {
   "cell_type": "code",
   "execution_count": null,
   "metadata": {
    "colab": {
     "base_uri": "https://localhost:8080/"
    },
    "executionInfo": {
     "elapsed": 338,
     "status": "ok",
     "timestamp": 1633775859222,
     "user": {
      "displayName": "배상민",
      "photoUrl": "https://lh3.googleusercontent.com/a/default-user=s64",
      "userId": "07899902255280235860"
     },
     "user_tz": -540
    },
    "id": "_I4al6N4nm69",
    "outputId": "bd047072-4806-4c5a-aeac-b346a0ca1069"
   },
   "outputs": [],
   "source": [
    "print(\"Hello World!\")"
   ]
  },
  {
   "cell_type": "markdown",
   "metadata": {
    "id": "fV8rbDEDnm6-"
   },
   "source": [
    "# 1. 자료형\n",
    "---\n",
    "\n",
    "`자료형`이란 프로그래밍에 사용되는 숫자 혹은 문자 등의 모든 자료 형태들을 의미합니다. 어떤 자료형으로 변수를 선언하고, 저장할지를 선택할 수 있어야 매끄러운 프로그래밍을 하실 수 있습니다.\n",
    "\n",
    "변수들이 어떤 자료형인지 확인할 수 있는 파이썬 문법은 `type`입니다.  \n",
    "ex. 변수 `a`에 대한 자료형은 `type(a)`로 확인할 수 있습니다."
   ]
  },
  {
   "cell_type": "markdown",
   "metadata": {
    "id": "yBiDyZZbnm6_"
   },
   "source": [
    "## 1-1. 숫자형\n",
    "\n",
    "가장 기본적인 숫자 형태로 이루어진 자료형입니다. 파이썬에서는 **정수형**(Integer)과 **실수형**(Floating-point)을 구분하기 때문에, 사용에 있어 주의하셔야 합니다."
   ]
  },
  {
   "cell_type": "code",
   "execution_count": null,
   "metadata": {
    "colab": {
     "base_uri": "https://localhost:8080/"
    },
    "executionInfo": {
     "elapsed": 350,
     "status": "ok",
     "timestamp": 1633775912598,
     "user": {
      "displayName": "배상민",
      "photoUrl": "https://lh3.googleusercontent.com/a/default-user=s64",
      "userId": "07899902255280235860"
     },
     "user_tz": -540
    },
    "id": "-BLYgUa1nm6_",
    "outputId": "76893e6d-8bac-4dcf-963f-eb99f7a27b47"
   },
   "outputs": [],
   "source": [
    "# 정수형 예시\n",
    "a = 2021\n",
    "\n",
    "print('변수 a의 자료형은 %s입니다.' % (type(a)))"
   ]
  },
  {
   "cell_type": "code",
   "execution_count": null,
   "metadata": {
    "colab": {
     "base_uri": "https://localhost:8080/"
    },
    "executionInfo": {
     "elapsed": 335,
     "status": "ok",
     "timestamp": 1633775915750,
     "user": {
      "displayName": "배상민",
      "photoUrl": "https://lh3.googleusercontent.com/a/default-user=s64",
      "userId": "07899902255280235860"
     },
     "user_tz": -540
    },
    "id": "4RHtl7fCnm7A",
    "outputId": "4a00638c-94ad-4e39-f08c-fdfbb2c3852f"
   },
   "outputs": [],
   "source": [
    "# 실수형 예시\n",
    "b = 2021.0\n",
    "\n",
    "print('변수 b의 자료형은 %s입니다.' % (type(b)))"
   ]
  },
  {
   "cell_type": "code",
   "execution_count": null,
   "metadata": {
    "colab": {
     "base_uri": "https://localhost:8080/"
    },
    "executionInfo": {
     "elapsed": 339,
     "status": "ok",
     "timestamp": 1633775918130,
     "user": {
      "displayName": "배상민",
      "photoUrl": "https://lh3.googleusercontent.com/a/default-user=s64",
      "userId": "07899902255280235860"
     },
     "user_tz": -540
    },
    "id": "zWqzftAAnm7A",
    "outputId": "d736ca9f-e8cd-49f4-c8a5-96618eee5581"
   },
   "outputs": [],
   "source": [
    "print('같은 0의 값을 가지지만, 자료형은 정수형과 실수형으로 구분됩니다.')\n",
    "print('ex. 변수 a와 b의 자료형은 같다라는 명제는 %s' % (type(a) == type(b)))"
   ]
  },
  {
   "cell_type": "markdown",
   "metadata": {
    "id": "rKYqJZiFnm7B"
   },
   "source": [
    "정수형과 실수형은 서로 `int`와 `float`의 문법을 통해 변형 가능합니다."
   ]
  },
  {
   "cell_type": "code",
   "execution_count": null,
   "metadata": {
    "colab": {
     "base_uri": "https://localhost:8080/"
    },
    "executionInfo": {
     "elapsed": 4,
     "status": "ok",
     "timestamp": 1633775919601,
     "user": {
      "displayName": "배상민",
      "photoUrl": "https://lh3.googleusercontent.com/a/default-user=s64",
      "userId": "07899902255280235860"
     },
     "user_tz": -540
    },
    "id": "d9VIixUanm7B",
    "outputId": "3331fe0b-6c12-4ec8-b2d8-e45df74441d1"
   },
   "outputs": [],
   "source": [
    "a = 2021\n",
    "b = float(a)\n",
    "\n",
    "print('변수 a와 b의 자료형은 각각 %s, %s입니다.' % (type(a), type(b)))"
   ]
  },
  {
   "cell_type": "code",
   "execution_count": null,
   "metadata": {
    "colab": {
     "base_uri": "https://localhost:8080/"
    },
    "executionInfo": {
     "elapsed": 3,
     "status": "ok",
     "timestamp": 1633775921498,
     "user": {
      "displayName": "배상민",
      "photoUrl": "https://lh3.googleusercontent.com/a/default-user=s64",
      "userId": "07899902255280235860"
     },
     "user_tz": -540
    },
    "id": "-SY8isVrnm7B",
    "outputId": "c3883688-c3fb-4eb9-8e88-e268e94a6163"
   },
   "outputs": [],
   "source": [
    "a = 2021.0\n",
    "b = int(a)\n",
    "\n",
    "print('변수 a와 b의 자료형은 각각 %s, %s입니다.' % (type(a), type(b)))"
   ]
  },
  {
   "cell_type": "markdown",
   "metadata": {
    "id": "fhYTkHu3nm7C"
   },
   "source": [
    "또한 숫자형은 기본적인 사칙연산을 자유롭게 구현하실 수 있습니다."
   ]
  },
  {
   "cell_type": "code",
   "execution_count": null,
   "metadata": {
    "colab": {
     "base_uri": "https://localhost:8080/"
    },
    "executionInfo": {
     "elapsed": 4,
     "status": "ok",
     "timestamp": 1633775922941,
     "user": {
      "displayName": "배상민",
      "photoUrl": "https://lh3.googleusercontent.com/a/default-user=s64",
      "userId": "07899902255280235860"
     },
     "user_tz": -540
    },
    "id": "tuOZjepanm7C",
    "outputId": "469267f1-9139-4dde-a50d-d4f520454eaa"
   },
   "outputs": [],
   "source": [
    "a = 10\n",
    "b = 2\n",
    "\n",
    "print('더하기', a + b)\n",
    "print('빼기', a - b)\n",
    "print('곱하기', a * b)\n",
    "print('나누기', a / b)"
   ]
  },
  {
   "cell_type": "markdown",
   "metadata": {
    "id": "f7OsjdRCnm7D"
   },
   "source": [
    "## 1-2. 불 자료형\n",
    "\n",
    "불(Boolean)은 참과 거짓을 다루는 자료형입니다. 오직 `True`와 `False` 두 가지 값만을 가질 수 있습니다.   \n",
    "불 자료형은 조금 후에 배울 제어문에서 매우 중요한 역할을 해줍니다."
   ]
  },
  {
   "cell_type": "code",
   "execution_count": null,
   "metadata": {
    "colab": {
     "base_uri": "https://localhost:8080/"
    },
    "executionInfo": {
     "elapsed": 5,
     "status": "ok",
     "timestamp": 1633775925143,
     "user": {
      "displayName": "배상민",
      "photoUrl": "https://lh3.googleusercontent.com/a/default-user=s64",
      "userId": "07899902255280235860"
     },
     "user_tz": -540
    },
    "id": "mevBw2c_nm7D",
    "outputId": "34527c1b-390f-4e53-afd1-ea4a2d1adf54"
   },
   "outputs": [],
   "source": [
    "# 불 자료형 예시\n",
    "a = True\n",
    "b = False\n",
    "\n",
    "print('변수 a의 자료형은 %s입니다.' % (type(a)))"
   ]
  },
  {
   "cell_type": "markdown",
   "metadata": {
    "id": "8kMBTu6nnm7D"
   },
   "source": [
    "## 1-3. 문자열 자료형\n",
    "\n",
    "문자열(String)은 문자들의 집합을 의미합니다.   \n",
    "파이썬에서 문자열 변수를 선언하기 위해선 따옴표(**' '** 혹은 **\" \"**)를 사용하시면 됩니다."
   ]
  },
  {
   "cell_type": "code",
   "execution_count": null,
   "metadata": {
    "colab": {
     "base_uri": "https://localhost:8080/"
    },
    "executionInfo": {
     "elapsed": 5,
     "status": "ok",
     "timestamp": 1633775932552,
     "user": {
      "displayName": "배상민",
      "photoUrl": "https://lh3.googleusercontent.com/a/default-user=s64",
      "userId": "07899902255280235860"
     },
     "user_tz": -540
    },
    "id": "UaMR3Wssnm7E",
    "outputId": "33211b86-829a-4181-c49e-edfd8987958d"
   },
   "outputs": [],
   "source": [
    "a = 'Hello World!'\n",
    "\n",
    "print('변수 a의 자료형은 %s입니다.' % (type(a)))"
   ]
  },
  {
   "cell_type": "markdown",
   "metadata": {
    "id": "-v-gyEcgnm7E"
   },
   "source": [
    "문자열과 이후에 배울 리스트, 튜플, 딕셔너리, 집합에서는 `인덱싱`을 통해 자료형을 추출하거나 변형할 수 있습니다.   \n",
    "여기서 알아두셔야 할 것이 세 가지 있습니다.\n",
    "- **`파이썬 언어는 인덱싱 숫자를 0부터 센다`**\n",
    "- **`인덱싱 숫자를 거꾸로 셀 때는 -1, -2, ... 순으로 센다`**\n",
    "- **`문자열에 포함된 띄어쓰기 또한 인덱싱에 포함된다`**"
   ]
  },
  {
   "cell_type": "code",
   "execution_count": null,
   "metadata": {
    "colab": {
     "base_uri": "https://localhost:8080/"
    },
    "executionInfo": {
     "elapsed": 371,
     "status": "ok",
     "timestamp": 1633775937194,
     "user": {
      "displayName": "배상민",
      "photoUrl": "https://lh3.googleusercontent.com/a/default-user=s64",
      "userId": "07899902255280235860"
     },
     "user_tz": -540
    },
    "id": "9y11wNxlnm7E",
    "outputId": "25597592-c60c-4241-ba16-09abadf12d24"
   },
   "outputs": [],
   "source": [
    "print('변수 a의 첫 번째 인덱스 값은 %s입니다.' % a[0])\n",
    "print('변수 a의 마지막 인덱스는 띄어쓰기 때문에 11이며, 그 값은 %s입니다.' % a[11])"
   ]
  },
  {
   "cell_type": "code",
   "execution_count": null,
   "metadata": {
    "colab": {
     "base_uri": "https://localhost:8080/"
    },
    "executionInfo": {
     "elapsed": 3,
     "status": "ok",
     "timestamp": 1633775937658,
     "user": {
      "displayName": "배상민",
      "photoUrl": "https://lh3.googleusercontent.com/a/default-user=s64",
      "userId": "07899902255280235860"
     },
     "user_tz": -540
    },
    "id": "KCqrRhtCnm7F",
    "outputId": "30e5ce69-25b3-4266-8133-106d8197c7b6"
   },
   "outputs": [],
   "source": [
    "print('변수 a의 마지막 인덱스 값은 %s입니다.' % a[-1])\n",
    "print('변수 a의 첫 번째 인덱스 값은 %s입니다.' % a[-12])"
   ]
  },
  {
   "cell_type": "markdown",
   "metadata": {
    "id": "cXkcaIN0nm7F"
   },
   "source": [
    "특별히, 문자열은 `포매팅`을 통해 원하는 값들을 문자열에 포함시킬 수 있습니다.   \n",
    "포매팅에는 두 가지 방법이 있고, 아래 예제들을 통해 보시겠습니다."
   ]
  },
  {
   "cell_type": "code",
   "execution_count": null,
   "metadata": {
    "colab": {
     "base_uri": "https://localhost:8080/"
    },
    "executionInfo": {
     "elapsed": 6,
     "status": "ok",
     "timestamp": 1633775928718,
     "user": {
      "displayName": "배상민",
      "photoUrl": "https://lh3.googleusercontent.com/a/default-user=s64",
      "userId": "07899902255280235860"
     },
     "user_tz": -540
    },
    "id": "4irRNhmYnm7F",
    "outputId": "b2f7b405-69ab-4441-9eeb-8d475af260bc"
   },
   "outputs": [],
   "source": [
    "# %를 이용한 포매팅\n",
    "print('위에서 계속 사용하던 포매팅이 %s를 이용한 방법이었습니다.' % '%')"
   ]
  },
  {
   "cell_type": "code",
   "execution_count": null,
   "metadata": {
    "colab": {
     "base_uri": "https://localhost:8080/"
    },
    "executionInfo": {
     "elapsed": 336,
     "status": "ok",
     "timestamp": 1633775942055,
     "user": {
      "displayName": "배상민",
      "photoUrl": "https://lh3.googleusercontent.com/a/default-user=s64",
      "userId": "07899902255280235860"
     },
     "user_tz": -540
    },
    "id": "LtcB2_CYnm7F",
    "outputId": "8c98a340-836a-460c-e1db-ab3b51a83675"
   },
   "outputs": [],
   "source": [
    "# format을 이용한 포매팅\n",
    "print('다른 포매팅 방법으로는 {a} 사용이 있습니다.'.format(a='format'))"
   ]
  },
  {
   "cell_type": "markdown",
   "metadata": {
    "id": "d8DC69fVnm7G"
   },
   "source": [
    "## 1-4. 리스트, 튜플, 집합 자료형\n",
    "\n",
    "리스트(List), 튜플(Tuple), 집합(Set) 세 가지의 굉장히 비슷하면서도 차이가 있는 자료형입니다.   \n",
    "여러 자료형의 **모음**을 가능하게 해주는 것이 위의 자료형들입니다.   \n",
    "각 자료형의 특징들에 대해 간단하게 알아보겠습니다."
   ]
  },
  {
   "cell_type": "markdown",
   "metadata": {
    "id": "CevsV342nm7G"
   },
   "source": [
    "먼저 **리스트 자료형**은 여러 자료형의 요소(element)들을 `[ ](대괄호)`로 감싸 선언할 수 있습니다.   \n",
    "리스트 자료형의 특징은 다음과 같습니다.\n",
    "- 요소에 대한 인덱싱이 가능하다.\n",
    "- 값을 수정하거나 삭제, 추가, 정렬 등을 할 수 있다."
   ]
  },
  {
   "cell_type": "code",
   "execution_count": null,
   "metadata": {
    "colab": {
     "base_uri": "https://localhost:8080/"
    },
    "executionInfo": {
     "elapsed": 330,
     "status": "ok",
     "timestamp": 1633775948990,
     "user": {
      "displayName": "배상민",
      "photoUrl": "https://lh3.googleusercontent.com/a/default-user=s64",
      "userId": "07899902255280235860"
     },
     "user_tz": -540
    },
    "id": "7rePygIjnm7G",
    "outputId": "43e30dfa-80ec-42e3-8184-3e9202f164c8"
   },
   "outputs": [],
   "source": [
    "a = [1, 2, 3]\n",
    "\n",
    "print('변수 a의 자료형은 %s입니다.' % (type(a)))"
   ]
  },
  {
   "cell_type": "code",
   "execution_count": null,
   "metadata": {
    "colab": {
     "base_uri": "https://localhost:8080/"
    },
    "executionInfo": {
     "elapsed": 344,
     "status": "ok",
     "timestamp": 1633775951160,
     "user": {
      "displayName": "배상민",
      "photoUrl": "https://lh3.googleusercontent.com/a/default-user=s64",
      "userId": "07899902255280235860"
     },
     "user_tz": -540
    },
    "id": "gP8dNPLqnm7H",
    "outputId": "169412f2-02c3-4252-ae31-5dfe2fc90ec6"
   },
   "outputs": [],
   "source": [
    "print('리스트 a의 첫 번째 요소는 %s입니다.' % (a[0]))\n",
    "\n",
    "# 인덱싱에 있어 ':'를 통해 범위를 지정할 수 있습니다.\n",
    "# ex. 파이썬 언어에서 a:b는 a번째부터 b-1번째 까지의 범위를 의미합니다.\n",
    "print('리스트 a의 두 번째부터 세 번째 까지의 요소는 %s입니다.' % (a[1:3]))"
   ]
  },
  {
   "cell_type": "code",
   "execution_count": null,
   "metadata": {
    "colab": {
     "base_uri": "https://localhost:8080/"
    },
    "executionInfo": {
     "elapsed": 350,
     "status": "ok",
     "timestamp": 1633775953729,
     "user": {
      "displayName": "배상민",
      "photoUrl": "https://lh3.googleusercontent.com/a/default-user=s64",
      "userId": "07899902255280235860"
     },
     "user_tz": -540
    },
    "id": "C17UAA10nm7H",
    "outputId": "ac6b2ee0-d10a-407e-f8b6-950315065c8f"
   },
   "outputs": [],
   "source": [
    "# 값 수정\n",
    "a[0] = 5\n",
    "print(a)\n",
    "print('---')\n",
    "\n",
    "# 값 삭제\n",
    "del a[0]\n",
    "print(a)\n",
    "print('---')\n",
    "\n",
    "# 값 추가\n",
    "a.append(1)\n",
    "print(a)\n",
    "print('---')\n",
    "\n",
    "# 값 정렬\n",
    "a.sort()\n",
    "print(a)"
   ]
  },
  {
   "cell_type": "markdown",
   "metadata": {
    "id": "2oxryepdnm7H"
   },
   "source": [
    "**튜플 자료형**은 여러 자료형의 요소(element)들을 `( )(소괄호)`로 감싸 선언할 수 있습니다.   \n",
    "튜플 자료형의 특징은 다음과 같습니다.\n",
    "- 요소에 대한 인덱싱이 가능하다.\n",
    "- 하지만 값에 대한 추가, 삭제, 수정이 불가능하다."
   ]
  },
  {
   "cell_type": "code",
   "execution_count": null,
   "metadata": {
    "colab": {
     "base_uri": "https://localhost:8080/"
    },
    "executionInfo": {
     "elapsed": 331,
     "status": "ok",
     "timestamp": 1633775956666,
     "user": {
      "displayName": "배상민",
      "photoUrl": "https://lh3.googleusercontent.com/a/default-user=s64",
      "userId": "07899902255280235860"
     },
     "user_tz": -540
    },
    "id": "e-5d_kmqnm7I",
    "outputId": "d9d8b873-2b9c-42d4-dcb4-3e55421180f2"
   },
   "outputs": [],
   "source": [
    "a = (1, 2, 3)\n",
    "\n",
    "print('변수 a의 자료형은 %s입니다.' % (type(a)))"
   ]
  },
  {
   "cell_type": "code",
   "execution_count": null,
   "metadata": {
    "colab": {
     "base_uri": "https://localhost:8080/"
    },
    "executionInfo": {
     "elapsed": 4,
     "status": "ok",
     "timestamp": 1633775957022,
     "user": {
      "displayName": "배상민",
      "photoUrl": "https://lh3.googleusercontent.com/a/default-user=s64",
      "userId": "07899902255280235860"
     },
     "user_tz": -540
    },
    "id": "5ErSF8rnnm7I",
    "outputId": "691b087b-0f6f-4bf2-d14c-b8bb2b3e9533"
   },
   "outputs": [],
   "source": [
    "# 인덱싱 가능\n",
    "print('튜플 a의 첫 번째 요소는 %s입니다.' % (a[0]))"
   ]
  },
  {
   "cell_type": "code",
   "execution_count": null,
   "metadata": {
    "colab": {
     "base_uri": "https://localhost:8080/",
     "height": 181
    },
    "executionInfo": {
     "elapsed": 6,
     "status": "error",
     "timestamp": 1633775958438,
     "user": {
      "displayName": "배상민",
      "photoUrl": "https://lh3.googleusercontent.com/a/default-user=s64",
      "userId": "07899902255280235860"
     },
     "user_tz": -540
    },
    "id": "379kvGY9nm7I",
    "outputId": "b1d984a5-763d-4c37-86a0-a2ae928c6323"
   },
   "outputs": [],
   "source": [
    "# 값 수정시 에러 발생\n",
    "a[0] = 3"
   ]
  },
  {
   "cell_type": "markdown",
   "metadata": {
    "id": "B9OTywL5nm7J"
   },
   "source": [
    "집합 자료형은 `set` 문법을 사용해서 선언할 수 있습니다. 문법에 리스트나 튜플, 문자열을 입력하여 생성합니다.      \n",
    "집합을 다루기 위한 자료형이며, 특징들은 다음과 같습니다.\n",
    "- 집합을 다루기 때문에, 중복이 허용되지 않는다.\n",
    "- 순서의 개념이 존재하지 않기 때문에, 요소에 대한 인덱싱과 값 수정이 불가능하다.\n",
    "- 값 추가와 삭제는 가능하다."
   ]
  },
  {
   "cell_type": "code",
   "execution_count": null,
   "metadata": {
    "colab": {
     "base_uri": "https://localhost:8080/"
    },
    "executionInfo": {
     "elapsed": 4,
     "status": "ok",
     "timestamp": 1633775962089,
     "user": {
      "displayName": "배상민",
      "photoUrl": "https://lh3.googleusercontent.com/a/default-user=s64",
      "userId": "07899902255280235860"
     },
     "user_tz": -540
    },
    "id": "QzwedxcFnm7J",
    "outputId": "6a9a60f5-aa32-434f-cc45-ff0cbd996044"
   },
   "outputs": [],
   "source": [
    "a = set([1, 2, 3])\n",
    "\n",
    "print('변수 a의 자료형은 %s입니다.' % (type(a)))"
   ]
  },
  {
   "cell_type": "code",
   "execution_count": null,
   "metadata": {
    "colab": {
     "base_uri": "https://localhost:8080/"
    },
    "executionInfo": {
     "elapsed": 4,
     "status": "ok",
     "timestamp": 1633775962611,
     "user": {
      "displayName": "배상민",
      "photoUrl": "https://lh3.googleusercontent.com/a/default-user=s64",
      "userId": "07899902255280235860"
     },
     "user_tz": -540
    },
    "id": "JT-YlLhZnm7J",
    "outputId": "c7a13182-30bc-4744-bb83-44c67a925611"
   },
   "outputs": [],
   "source": [
    "# 중복 불가능\n",
    "a = set([1,1,1])\n",
    "print(a)"
   ]
  },
  {
   "cell_type": "code",
   "execution_count": null,
   "metadata": {
    "colab": {
     "base_uri": "https://localhost:8080/",
     "height": 198
    },
    "executionInfo": {
     "elapsed": 4,
     "status": "error",
     "timestamp": 1633775963768,
     "user": {
      "displayName": "배상민",
      "photoUrl": "https://lh3.googleusercontent.com/a/default-user=s64",
      "userId": "07899902255280235860"
     },
     "user_tz": -540
    },
    "id": "OTFo3ANnnm7J",
    "outputId": "3543956d-75a4-40d8-854e-83fac9bf7fa1"
   },
   "outputs": [],
   "source": [
    "# 인덱싱 불가능\n",
    "a = set([1, 2, 3])\n",
    "print(a[0])"
   ]
  },
  {
   "cell_type": "code",
   "execution_count": null,
   "metadata": {
    "colab": {
     "base_uri": "https://localhost:8080/"
    },
    "executionInfo": {
     "elapsed": 352,
     "status": "ok",
     "timestamp": 1633775967394,
     "user": {
      "displayName": "배상민",
      "photoUrl": "https://lh3.googleusercontent.com/a/default-user=s64",
      "userId": "07899902255280235860"
     },
     "user_tz": -540
    },
    "id": "CiRk1ub_nm7K",
    "outputId": "d836cfe4-8791-4c09-9cdc-0079a72c581a"
   },
   "outputs": [],
   "source": [
    "# 값 추가\n",
    "a.add(4)\n",
    "print(a)\n",
    "print('---')\n",
    "\n",
    "# 값 삭제\n",
    "a.remove(4)\n",
    "print(a)"
   ]
  },
  {
   "cell_type": "markdown",
   "metadata": {
    "id": "k1VkiyZknm7K"
   },
   "source": [
    "추가로 리스트, 튜플, 집합 자료형은 `len`의 문법을 통해 요소의 개수를 셀 수 있습니다.   \n",
    "또한 각각 `list`, `tuple`, `set` 문법들을 통해 서로의 자료형으로 변형이 가능합니다."
   ]
  },
  {
   "cell_type": "code",
   "execution_count": null,
   "metadata": {
    "colab": {
     "base_uri": "https://localhost:8080/"
    },
    "executionInfo": {
     "elapsed": 332,
     "status": "ok",
     "timestamp": 1633775972832,
     "user": {
      "displayName": "배상민",
      "photoUrl": "https://lh3.googleusercontent.com/a/default-user=s64",
      "userId": "07899902255280235860"
     },
     "user_tz": -540
    },
    "id": "1ClrjM61nm7K",
    "outputId": "74f4c6ca-180e-44c7-d5bd-0547692b73bc"
   },
   "outputs": [],
   "source": [
    "a = [1]\n",
    "b = (1, 2)\n",
    "c = set([1, 2, 3])\n",
    "\n",
    "print('각 변수들이 가진 요소들의 개수는 %s,%s,%s입니다.' % (len(a),len(b),len(c)))"
   ]
  },
  {
   "cell_type": "code",
   "execution_count": null,
   "metadata": {
    "colab": {
     "base_uri": "https://localhost:8080/"
    },
    "executionInfo": {
     "elapsed": 332,
     "status": "ok",
     "timestamp": 1633775979292,
     "user": {
      "displayName": "배상민",
      "photoUrl": "https://lh3.googleusercontent.com/a/default-user=s64",
      "userId": "07899902255280235860"
     },
     "user_tz": -540
    },
    "id": "RkRQGqwXnm7L",
    "outputId": "e9a0ad9f-cf7e-4a12-97fc-a4d3f1dbeb9e"
   },
   "outputs": [],
   "source": [
    "a = [1, 2, 3]\n",
    "b = tuple(a)\n",
    "c = set(a)\n",
    "d = list(c)\n",
    "\n",
    "print('각 변수들의 %s, %s, %s입니다.' % (type(b), type(c), type(d)))"
   ]
  },
  {
   "cell_type": "markdown",
   "metadata": {
    "id": "r31s2TPQnm7L"
   },
   "source": [
    "## 1-5. 딕셔너리 자료형\n",
    "\n",
    "마지막으로 딕셔너리는 key와 value의 대응 관계를 저장한 자료형입니다. 딕셔너리는 `:`을 통해 대응 관계를 정의하며, `{ }`로 값들을 감싸 선언합니다.   \n",
    "일전에 받던 자료형처럼 순서에 대한 인덱싱으로 값을 불러오는 것이 아니라, key를 입력하면 해당 value 값을 반환해주는 자료형입니다.   \n",
    "실습을 통해 여러가지 특징을 알아보겠습니다."
   ]
  },
  {
   "cell_type": "code",
   "execution_count": null,
   "metadata": {
    "colab": {
     "base_uri": "https://localhost:8080/"
    },
    "executionInfo": {
     "elapsed": 544,
     "status": "ok",
     "timestamp": 1633775983234,
     "user": {
      "displayName": "배상민",
      "photoUrl": "https://lh3.googleusercontent.com/a/default-user=s64",
      "userId": "07899902255280235860"
     },
     "user_tz": -540
    },
    "id": "tH9VOmqlnm7L",
    "outputId": "273e973f-8523-4201-8b31-dab6b9576d7b"
   },
   "outputs": [],
   "source": [
    "a = {'b': 1, 'c': 2}\n",
    "\n",
    "print('변수 a의 자료형은 %s입니다.' % (type(a)))"
   ]
  },
  {
   "cell_type": "code",
   "execution_count": null,
   "metadata": {
    "colab": {
     "base_uri": "https://localhost:8080/"
    },
    "executionInfo": {
     "elapsed": 3,
     "status": "ok",
     "timestamp": 1633775983569,
     "user": {
      "displayName": "배상민",
      "photoUrl": "https://lh3.googleusercontent.com/a/default-user=s64",
      "userId": "07899902255280235860"
     },
     "user_tz": -540
    },
    "id": "UlXmnm_Fnm7L",
    "outputId": "033011ca-c36d-40f7-c555-1070fc1f4932"
   },
   "outputs": [],
   "source": [
    "# value 얻기 1\n",
    "print(a['b'])\n",
    "print('---')\n",
    "\n",
    "# value 얻기 2\n",
    "print(a.get('b'))\n",
    "print('---')\n",
    "\n",
    "# value 수정하기\n",
    "a['b'] = 3\n",
    "print(a['b'])\n",
    "print('---')\n",
    "\n",
    "# key 리스트 만들기\n",
    "print(a.keys())\n",
    "print('---')\n",
    "\n",
    "# value 리스트 만들기\n",
    "print(a.values())\n",
    "print('---')\n",
    "\n",
    "# key, value 쌍 얻기\n",
    "print(a.items())\n",
    "print('---')\n",
    "\n",
    "# 딕셔너리가 key를 포함하는지 조사하기\n",
    "print('b' in a)"
   ]
  },
  {
   "cell_type": "markdown",
   "metadata": {
    "id": "ZVXLLQFBnm7M"
   },
   "source": [
    "# 2. 제어문\n",
    "---\n",
    "\n",
    "파이썬 언어가 사람의 사고대로 프로그래밍을 가능케하는 것들이 바로 `if`, `for`, `while`의 제어문입니다.   \n",
    "각각의 제어문이 하는 역할과 활용법들에 대해 간단히 소개해드리겠습니다."
   ]
  },
  {
   "cell_type": "markdown",
   "metadata": {
    "id": "GcTbUtJInm7M"
   },
   "source": [
    "## 2-1. if문\n",
    "\n",
    "if문은 말그대로 주어진 조건에 부합하는지 판단하여, 상황에 맞게 연산을 처리해줍니다.   \n",
    "파이썬 내장 문법들을 통해 다양한 조건문을 생성해줄 수 있고, 다음의 기본 구조에 맞추어 코드를 작성해주시면 됩니다.\n",
    "\n",
    "첫 조건문은 `if` 구문을 사용하여 제시해줍니다. 두 번째 이후부터는 `elif` 구문을 사용해주며, 특정한 조건문 없이 이전 조건들의 여사건은 `else`로 표현해줍니다.   \n",
    "기본적으로 조건문 뒤에 `:`를 사용하여 이후에 나올 코드를 감싸줍니다. 이 때, 감싸진 코드 줄들은 모두 들여쓰기(indentation)이 되어있어야 에러가 발생하지 않습니다.   "
   ]
  },
  {
   "cell_type": "code",
   "execution_count": null,
   "metadata": {
    "colab": {
     "base_uri": "https://localhost:8080/"
    },
    "executionInfo": {
     "elapsed": 358,
     "status": "ok",
     "timestamp": 1633775996710,
     "user": {
      "displayName": "배상민",
      "photoUrl": "https://lh3.googleusercontent.com/a/default-user=s64",
      "userId": "07899902255280235860"
     },
     "user_tz": -540
    },
    "id": "Kop5K7pSnm7M",
    "outputId": "c6e75e4f-71dc-4935-d389-378d6f373427"
   },
   "outputs": [],
   "source": [
    "# 기본 구조\n",
    "a = 2021\n",
    "b = 2021\n",
    "\n",
    "if a > b:\n",
    "    print('a는 b보다 크다')\n",
    "elif a < b:\n",
    "    print('a는 b보다 작다')\n",
    "else:\n",
    "    print('a는 b와 같다')"
   ]
  },
  {
   "cell_type": "markdown",
   "metadata": {
    "id": "aS_HNLnmnm7N"
   },
   "source": [
    "조건문을 만들기 위해, 다음 예제들의 연산자들을 사용할 수 있습니다."
   ]
  },
  {
   "cell_type": "code",
   "execution_count": null,
   "metadata": {
    "colab": {
     "base_uri": "https://localhost:8080/"
    },
    "executionInfo": {
     "elapsed": 4,
     "status": "ok",
     "timestamp": 1633775998978,
     "user": {
      "displayName": "배상민",
      "photoUrl": "https://lh3.googleusercontent.com/a/default-user=s64",
      "userId": "07899902255280235860"
     },
     "user_tz": -540
    },
    "id": "SkhxhYHenm7N",
    "outputId": "2a88400e-fb40-4283-b4d7-0659efc44faa"
   },
   "outputs": [],
   "source": [
    "# 비교연산자\n",
    "print(10 < 20)\n",
    "print(10 > 20)\n",
    "print(10 == 20)\n",
    "print(10 != 20)"
   ]
  },
  {
   "cell_type": "code",
   "execution_count": null,
   "metadata": {
    "colab": {
     "base_uri": "https://localhost:8080/"
    },
    "executionInfo": {
     "elapsed": 3,
     "status": "ok",
     "timestamp": 1633776000236,
     "user": {
      "displayName": "배상민",
      "photoUrl": "https://lh3.googleusercontent.com/a/default-user=s64",
      "userId": "07899902255280235860"
     },
     "user_tz": -540
    },
    "id": "g052uqnqnm7N",
    "outputId": "de631860-eb29-4690-e701-62960f931575"
   },
   "outputs": [],
   "source": [
    "# and, or, not\n",
    "a = True\n",
    "b = False\n",
    "\n",
    "print(a and b)\n",
    "print(a or b)\n",
    "print(not a)"
   ]
  },
  {
   "cell_type": "code",
   "execution_count": null,
   "metadata": {
    "colab": {
     "base_uri": "https://localhost:8080/"
    },
    "executionInfo": {
     "elapsed": 2,
     "status": "ok",
     "timestamp": 1633776000651,
     "user": {
      "displayName": "배상민",
      "photoUrl": "https://lh3.googleusercontent.com/a/default-user=s64",
      "userId": "07899902255280235860"
     },
     "user_tz": -540
    },
    "id": "_6pS1hLTnm7N",
    "outputId": "9fdaaf35-3b1c-4113-d545-e1486614be4a"
   },
   "outputs": [],
   "source": [
    "# in\n",
    "a = [1,2,3]\n",
    "\n",
    "print(1 in a)\n",
    "print(1 not in a)"
   ]
  },
  {
   "cell_type": "markdown",
   "metadata": {
    "id": "LTOMMg8znm7N"
   },
   "source": [
    "## 2-2. for문\n",
    "\n",
    "for문은 연산을 반복할 경우에 사용하는 제어문입니다. for문을 통해 같은 연산을 여러번 반복할 수 있고, 같은 연산을 다른 입력값을 넣어 실행할 수 있습니다.   \n",
    "예제를 보며 기본 구조와 유용한 문법들을 알아보겠습니다."
   ]
  },
  {
   "cell_type": "code",
   "execution_count": null,
   "metadata": {
    "colab": {
     "base_uri": "https://localhost:8080/"
    },
    "executionInfo": {
     "elapsed": 4,
     "status": "ok",
     "timestamp": 1633776004697,
     "user": {
      "displayName": "배상민",
      "photoUrl": "https://lh3.googleusercontent.com/a/default-user=s64",
      "userId": "07899902255280235860"
     },
     "user_tz": -540
    },
    "id": "S3PKM54Hnm7O",
    "outputId": "aca10239-443f-4b8b-de3e-580c52eb11b1"
   },
   "outputs": [],
   "source": [
    "# 기본 구조\n",
    "nums = [0,1,2,3,4]\n",
    "\n",
    "for num in nums:\n",
    "    print(num)"
   ]
  },
  {
   "cell_type": "code",
   "execution_count": null,
   "metadata": {
    "colab": {
     "base_uri": "https://localhost:8080/"
    },
    "executionInfo": {
     "elapsed": 4,
     "status": "ok",
     "timestamp": 1633776006249,
     "user": {
      "displayName": "배상민",
      "photoUrl": "https://lh3.googleusercontent.com/a/default-user=s64",
      "userId": "07899902255280235860"
     },
     "user_tz": -540
    },
    "id": "elvgemW2nm7O",
    "outputId": "5dae0b27-0a89-4de2-a8ad-30279eae8d3a"
   },
   "outputs": [],
   "source": [
    "# 유용한 문법들\n",
    "\n",
    "# 1. 반복횟수를 지정해줄 수 있는 range\n",
    "# range(a, b)는 a부터 b-1까지의 값을 출력\n",
    "# range(a)는 0부터 a-1까지의 값을 출력\n",
    "for num in range(5):\n",
    "    print(num)\n",
    "print('---')\n",
    "\n",
    "# 2. 리스트 안 요소들의 순서 인덱스를 같이 받는 enumerate\n",
    "for idx, num in enumerate(range(5)):\n",
    "    print(idx, num)\n",
    "print('---')\n",
    "    \n",
    "# 3. 2개의 리스트를 같이 읽어주는 zip\n",
    "for num1, num2 in zip(range(5), range(5,10)):\n",
    "    print(num1, num2)"
   ]
  },
  {
   "cell_type": "markdown",
   "metadata": {
    "id": "W2CWLF7Dnm7O"
   },
   "source": [
    "for문을 통해 반복적인 연산을 하되, 특정 상황에서 반복을 멈추거나(`break`) 넘어갈(`continue`) 수 있습니다."
   ]
  },
  {
   "cell_type": "code",
   "execution_count": null,
   "metadata": {
    "colab": {
     "base_uri": "https://localhost:8080/"
    },
    "executionInfo": {
     "elapsed": 345,
     "status": "ok",
     "timestamp": 1633776012184,
     "user": {
      "displayName": "배상민",
      "photoUrl": "https://lh3.googleusercontent.com/a/default-user=s64",
      "userId": "07899902255280235860"
     },
     "user_tz": -540
    },
    "id": "sb4ksXg-nm7O",
    "outputId": "d3f37a7f-16b7-42a9-c361-70b02aee1f9b"
   },
   "outputs": [],
   "source": [
    "# continue 활용\n",
    "for num in range(10):\n",
    "    if num == 5:\n",
    "        continue\n",
    "    print(num)\n",
    "print('---')\n",
    "    \n",
    "# break 활용\n",
    "for num in range(10):\n",
    "    if num == 5:\n",
    "        break\n",
    "    print(num)"
   ]
  },
  {
   "cell_type": "markdown",
   "metadata": {
    "id": "gCvi042snm7P"
   },
   "source": [
    "## 2-3. while문\n",
    "\n",
    "while문은 반복문과 조건문을 혼합한 형태입니다. 주어진 조건문이 거짓이 될 때까지 반복 처리를 시키는 제어문입니다.   \n",
    "하지만 while문보단 for문이 보다 직관적이어서 흔히 for문을 선호하기 때문에, 간단히만 보고 넘어가겠습니다.   "
   ]
  },
  {
   "cell_type": "code",
   "execution_count": null,
   "metadata": {
    "colab": {
     "base_uri": "https://localhost:8080/"
    },
    "executionInfo": {
     "elapsed": 527,
     "status": "ok",
     "timestamp": 1633776015499,
     "user": {
      "displayName": "배상민",
      "photoUrl": "https://lh3.googleusercontent.com/a/default-user=s64",
      "userId": "07899902255280235860"
     },
     "user_tz": -540
    },
    "id": "2dkxX3k4nm7P",
    "outputId": "3f811848-a720-4192-ff03-9f082a63a572"
   },
   "outputs": [],
   "source": [
    "# 기본 구조\n",
    "a = 0\n",
    "\n",
    "while a  < 5:\n",
    "    print(a)\n",
    "    a += 1"
   ]
  },
  {
   "cell_type": "code",
   "execution_count": null,
   "metadata": {
    "colab": {
     "base_uri": "https://localhost:8080/"
    },
    "executionInfo": {
     "elapsed": 4,
     "status": "ok",
     "timestamp": 1633776016452,
     "user": {
      "displayName": "배상민",
      "photoUrl": "https://lh3.googleusercontent.com/a/default-user=s64",
      "userId": "07899902255280235860"
     },
     "user_tz": -540
    },
    "id": "0O7bvhOZnm7P",
    "outputId": "a4b796b7-f3aa-4415-e6ba-8a292e9077e7"
   },
   "outputs": [],
   "source": [
    "# 중간에 반복을 멈추는 방법\n",
    "a = 0\n",
    "\n",
    "while  a < 99999:\n",
    "    if a == 5:\n",
    "        break\n",
    "    print(a)\n",
    "    a += 1    "
   ]
  },
  {
   "cell_type": "markdown",
   "metadata": {
    "id": "wMQbvU_Anm7P"
   },
   "source": [
    "# 3. 함수\n",
    "---\n",
    "\n",
    "다음으로 코드를 보다 간결하고 명확하게 만들어주는 **함수(function)**에 대해서 알아보겠습니다.   \n",
    "같은 연산을 다른 입력값에 적용해야될 때, 앞서 배운 for문과 while문의 반복문들을 사용할 수 있습니다. 하지만 보다 간결하게 프로그래밍을 하기 위해서, 파이썬에서는 `def`를 통해 함수를 쉽게 선언할 수 있습니다."
   ]
  },
  {
   "cell_type": "markdown",
   "metadata": {
    "id": "V95WmD7gnm7Q"
   },
   "source": [
    "함수의 기본 구조는 크게 `def`와 `return` 두 가지가 있습니다.   \n",
    "`def`는 함수의 이름과 입력값(argument)을 설정해주는 부분이고, `return`으로 출력값을 설정할 수 있습니다.   \n",
    "\n",
    "선언된 함수는 후에 함수이름과 함께 적절한 입력값을 넣어주면 실행됩니다."
   ]
  },
  {
   "cell_type": "code",
   "execution_count": null,
   "metadata": {
    "colab": {
     "base_uri": "https://localhost:8080/"
    },
    "executionInfo": {
     "elapsed": 339,
     "status": "ok",
     "timestamp": 1633776021630,
     "user": {
      "displayName": "배상민",
      "photoUrl": "https://lh3.googleusercontent.com/a/default-user=s64",
      "userId": "07899902255280235860"
     },
     "user_tz": -540
    },
    "id": "vc6O7v3znm7Q",
    "outputId": "678a2630-390d-4184-bf10-69d584caa042"
   },
   "outputs": [],
   "source": [
    "# 기본 구조\n",
    "def add(a, b):\n",
    "    return a + b\n",
    "\n",
    "add(3, 4)"
   ]
  },
  {
   "cell_type": "code",
   "execution_count": null,
   "metadata": {
    "colab": {
     "base_uri": "https://localhost:8080/"
    },
    "executionInfo": {
     "elapsed": 5,
     "status": "ok",
     "timestamp": 1633776023152,
     "user": {
      "displayName": "배상민",
      "photoUrl": "https://lh3.googleusercontent.com/a/default-user=s64",
      "userId": "07899902255280235860"
     },
     "user_tz": -540
    },
    "id": "RnE8Pinlnm7Q",
    "outputId": "73a5d4d3-7e0e-4664-ab6a-044fa5ac43e6"
   },
   "outputs": [],
   "source": [
    "def printing():\n",
    "    return 'hello', 'world!'\n",
    "\n",
    "a, b = printing()\n",
    "print(a, b)"
   ]
  },
  {
   "cell_type": "markdown",
   "metadata": {
    "id": "-F8bLzBBnm7Q"
   },
   "source": [
    "함수를 선언할 때 주의할 점들이 몇 가지 있습니다.\n",
    "1. 기본값이 설정되지 않은 입력값은 함수를 선언할 때, 무조건 같이 입력해야합니다.\n",
    "2. 함수 선언시 입력값의 기본값을 설정할 때는, 기본값이 없는 입력값 뒤에 선언되어야합니다.\n",
    "3. 함수 선언시 입력값의 이름을 지정하지 않으면, 순서대로 입력값이 배정됩니다.\n",
    "4. 함수 내에서 생성된 변수들은 함수의 연산이 끝나면 사라집니다."
   ]
  },
  {
   "cell_type": "code",
   "execution_count": null,
   "metadata": {
    "id": "ZhQ2FQ1Cnm7Q",
    "outputId": "e68f2d6c-2871-45cc-de81-352f7bd2e411"
   },
   "outputs": [],
   "source": [
    "# 1번 주의점\n",
    "def add(a, b):\n",
    "    return a + b\n",
    "\n",
    "print(add())"
   ]
  },
  {
   "cell_type": "code",
   "execution_count": null,
   "metadata": {
    "colab": {
     "base_uri": "https://localhost:8080/",
     "height": 130
    },
    "executionInfo": {
     "elapsed": 411,
     "status": "error",
     "timestamp": 1633776053256,
     "user": {
      "displayName": "배상민",
      "photoUrl": "https://lh3.googleusercontent.com/a/default-user=s64",
      "userId": "07899902255280235860"
     },
     "user_tz": -540
    },
    "id": "sO4zehIJnm7R",
    "outputId": "a3fe515a-8b8c-41dc-aaed-83f9abd1adcc",
    "scrolled": true
   },
   "outputs": [],
   "source": [
    "# 2번 주의점\n",
    "def add(a=3, b):\n",
    "    return a + b\n",
    "\n",
    "print(add(3, 4))"
   ]
  },
  {
   "cell_type": "code",
   "execution_count": null,
   "metadata": {
    "colab": {
     "base_uri": "https://localhost:8080/"
    },
    "executionInfo": {
     "elapsed": 336,
     "status": "ok",
     "timestamp": 1633776100301,
     "user": {
      "displayName": "배상민",
      "photoUrl": "https://lh3.googleusercontent.com/a/default-user=s64",
      "userId": "07899902255280235860"
     },
     "user_tz": -540
    },
    "id": "dPVXG7KQnm7R",
    "outputId": "89e6e5c1-8d9a-44cb-e75b-0a5f7a9db09d"
   },
   "outputs": [],
   "source": [
    "# 3번 주의점\n",
    "def show(a, b, c=2, d=2):\n",
    "    return a, b, c, d\n",
    "\n",
    "print(show(a=1,b=2,d=3))\n",
    "print('---')\n",
    "\n",
    "print(show(1,2,3))"
   ]
  },
  {
   "cell_type": "code",
   "execution_count": null,
   "metadata": {
    "colab": {
     "base_uri": "https://localhost:8080/",
     "height": 215
    },
    "executionInfo": {
     "elapsed": 347,
     "status": "error",
     "timestamp": 1633776120919,
     "user": {
      "displayName": "배상민",
      "photoUrl": "https://lh3.googleusercontent.com/a/default-user=s64",
      "userId": "07899902255280235860"
     },
     "user_tz": -540
    },
    "id": "7pPA2-TMnm7S",
    "outputId": "22c552a4-5e53-4625-e2ea-7b7de9bc5cf1"
   },
   "outputs": [],
   "source": [
    "# 4번 주의점\n",
    "def multiply(a, b, c):\n",
    "    tmp = a * b\n",
    "    return tmp * c\n",
    "\n",
    "val = multiply(2, 2, 3)\n",
    "print(val)\n",
    "print(tmp)"
   ]
  },
  {
   "cell_type": "markdown",
   "metadata": {
    "id": "77jvzkYfnm7S"
   },
   "source": [
    "# 4. 클래스\n",
    "---\n",
    "\n",
    "클래스(class)는 파이썬의 결정체이며, 이전에 배웠던 함수의 집합이라고 보시면 됩니다. 함수를 설명하면서, 함수 내에서 만들어진 변수들은 출력과 동시에 사라진다고 말씀드렸습니다. 결과값을 유지할 수 있도록 개발된 개념이 바로 클래스입니다.   \n",
    "예제를 통해 기본 구조를 살펴보고, `self`라는 개념에 대해 이해해보겠습니다."
   ]
  },
  {
   "cell_type": "code",
   "execution_count": null,
   "metadata": {
    "executionInfo": {
     "elapsed": 338,
     "status": "ok",
     "timestamp": 1633776132368,
     "user": {
      "displayName": "배상민",
      "photoUrl": "https://lh3.googleusercontent.com/a/default-user=s64",
      "userId": "07899902255280235860"
     },
     "user_tz": -540
    },
    "id": "E-vaWrO1nm7S"
   },
   "outputs": [],
   "source": [
    "# 기본 구조\n",
    "class calculator:\n",
    "    def __init__(self, a=0):\n",
    "        print('클래스 calculator가 입력값 %s와(과) 함께 선언되었습니다.' % a)\n",
    "        self.a = a\n",
    "        \n",
    "    def add(self, b):\n",
    "        return b + self.a"
   ]
  },
  {
   "cell_type": "markdown",
   "metadata": {
    "id": "gK30Sny5nm7T"
   },
   "source": [
    "위의 구조를 보면, `__init__`이란 클래스 내의 함수는 클래스를 선언할 때 처리되는 함수를 의미합니다.   \n",
    "`calculator()` 명령어를 통해 클래스를 선언했을 때 자동으로 실행됩니다."
   ]
  },
  {
   "cell_type": "code",
   "execution_count": null,
   "metadata": {
    "colab": {
     "base_uri": "https://localhost:8080/"
    },
    "executionInfo": {
     "elapsed": 356,
     "status": "ok",
     "timestamp": 1633776134643,
     "user": {
      "displayName": "배상민",
      "photoUrl": "https://lh3.googleusercontent.com/a/default-user=s64",
      "userId": "07899902255280235860"
     },
     "user_tz": -540
    },
    "id": "S-rpu-NYnm7T",
    "outputId": "55205270-9010-476d-d542-a648a7e7a8b6"
   },
   "outputs": [],
   "source": [
    "cal = calculator(a=3)"
   ]
  },
  {
   "cell_type": "markdown",
   "metadata": {
    "id": "7JEHMyo1nm7T"
   },
   "source": [
    "클래스 내의 `self`는 클래스로 선언된 변수(ex. 위 예제에서는 `cal` 변수가 됩니다.)를 지칭한다고 보시면 됩니다. 따라서 다음과 같은 방법으로 클래스 내의 `a` 값을 불러올 수 있습니다."
   ]
  },
  {
   "cell_type": "code",
   "execution_count": null,
   "metadata": {
    "colab": {
     "base_uri": "https://localhost:8080/"
    },
    "executionInfo": {
     "elapsed": 3,
     "status": "ok",
     "timestamp": 1633776135873,
     "user": {
      "displayName": "배상민",
      "photoUrl": "https://lh3.googleusercontent.com/a/default-user=s64",
      "userId": "07899902255280235860"
     },
     "user_tz": -540
    },
    "id": "CISPdbMFnm7U",
    "outputId": "ca2095b5-571d-4f4e-e284-c0d7367ec5cc"
   },
   "outputs": [],
   "source": [
    "print(cal.a)"
   ]
  },
  {
   "cell_type": "markdown",
   "metadata": {
    "id": "EUUPkKSlnm7U"
   },
   "source": [
    "클래스의 함수(메서드, method)를 사용하는 방법은 **\"(클래스변수).(함수이름)(함수의 입력값)\"**으로 사용하시면 됩니다."
   ]
  },
  {
   "cell_type": "code",
   "execution_count": null,
   "metadata": {
    "colab": {
     "base_uri": "https://localhost:8080/"
    },
    "executionInfo": {
     "elapsed": 344,
     "status": "ok",
     "timestamp": 1633776163709,
     "user": {
      "displayName": "배상민",
      "photoUrl": "https://lh3.googleusercontent.com/a/default-user=s64",
      "userId": "07899902255280235860"
     },
     "user_tz": -540
    },
    "id": "7qHdtB8Tnm7U",
    "outputId": "8bb6e1ae-2f07-40dc-e448-d51123e6aead"
   },
   "outputs": [],
   "source": [
    "# 클래스 함수 이용 예제\n",
    "cal.add(b=3)"
   ]
  },
  {
   "cell_type": "markdown",
   "metadata": {},
   "source": [
    "## 4.1 클래스 상속\n",
    "\n",
    "클래스 상속은 Parent 클래스가 가지고 있는 속성과 메서드를 Child 클래스가 가지게 되는 것입니다.   \n",
    "자식 클래스를 정의할 때, 부모 클래스가 가지고 있는 메서드를 따로 건들이지 않으면 그대로 사용할 수 있습니다.    \n",
    "반대로 추가하고 싶은 메서드가 있거나 기존 메서드를 수정하고 싶으면, 자식 클래스 내에서 수정하면 됩니다."
   ]
  },
  {
   "cell_type": "code",
   "execution_count": null,
   "metadata": {},
   "outputs": [],
   "source": [
    "class Country:\n",
    "    def __init__(self):\n",
    "        self.name = 'anywhere'\n",
    "        self.population = 100\n",
    "        \n",
    "    def show(self):\n",
    "        print('%s people live in %s' % (self.population, self.name))"
   ]
  },
  {
   "cell_type": "code",
   "execution_count": null,
   "metadata": {},
   "outputs": [],
   "source": [
    "class Korea(Country):\n",
    "    def __init__(self, name):\n",
    "        super(Korea, self).__init__()\n",
    "        self.name = name"
   ]
  },
  {
   "cell_type": "code",
   "execution_count": null,
   "metadata": {},
   "outputs": [],
   "source": [
    "c = Country()\n",
    "c.show()"
   ]
  },
  {
   "cell_type": "code",
   "execution_count": null,
   "metadata": {},
   "outputs": [],
   "source": [
    "k = Korea('Korea')\n",
    "k.show()"
   ]
  },
  {
   "cell_type": "code",
   "execution_count": null,
   "metadata": {},
   "outputs": [],
   "source": [
    "class KoreaSeoul(Country):\n",
    "    def __init__(self, name):\n",
    "        super(KoreaSeoul, self).__init__()\n",
    "        self.name = name\n",
    "        \n",
    "    def show(self):\n",
    "        self.capital = 'Seoul'\n",
    "        print('The capital of %s is %s and %s people live in %s' % (self.name, self.capital, self.population, self.name))"
   ]
  },
  {
   "cell_type": "code",
   "execution_count": null,
   "metadata": {},
   "outputs": [],
   "source": [
    "k = KoreaSeoul('Korea')\n",
    "k.show()"
   ]
  },
  {
   "cell_type": "markdown",
   "metadata": {
    "id": "rz-8Guqqnm7U"
   },
   "source": [
    "# 실습 문제\n",
    "---\n",
    "\n",
    "지금까지 공부하셨던 부분을 이용해, 사칙연산이 가능한 계산기 클래스를 만들어보겠습니다.   \n",
    "프로그래밍에 정답은 없으니 다양한 방법으로 코드를 작성할 수 있지만, 프로그래밍이 처음이신 분들은 아래의 틀을 이용해 만들어보셔도 됩니다."
   ]
  },
  {
   "cell_type": "code",
   "execution_count": null,
   "metadata": {
    "id": "_9N4gsxNnm7U"
   },
   "outputs": [],
   "source": [
    "class calculator:\n",
    "    def __init__(self, a):\n",
    "    # 초기 val 값을 설정(self 활용)\n",
    "        ???\n",
    "\n",
    "    # 클래스의 val 값을 0으로 초기화시키는 메서드\n",
    "    def reset(self):\n",
    "        ???\n",
    "        \n",
    "    def add(self, a):\n",
    "        ???\n",
    "        \n",
    "    def sub(self, a):\n",
    "        ???\n",
    "        \n",
    "    def mul(self, a):\n",
    "        ???\n",
    "        \n",
    "    def div(self, a):\n",
    "        ???\n",
    "        \n",
    "    # val을 print해주는 메서드\n",
    "    def show(self):\n",
    "        ???\n",
    "        \n",
    "# example : (2 + 3) * 6 / 5를 계산해봅시다.\n",
    "???"
   ]
  }
 ],
 "metadata": {
  "colab": {
   "collapsed_sections": [],
   "name": "Python_기초실습.ipynb",
   "provenance": []
  },
  "kernelspec": {
   "display_name": "Python 3",
   "language": "python",
   "name": "python3"
  },
  "language_info": {
   "codemirror_mode": {
    "name": "ipython",
    "version": 3
   },
   "file_extension": ".py",
   "mimetype": "text/x-python",
   "name": "python",
   "nbconvert_exporter": "python",
   "pygments_lexer": "ipython3",
   "version": "3.7.9"
  }
 },
 "nbformat": 4,
 "nbformat_minor": 1
}
