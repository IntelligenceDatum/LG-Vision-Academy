{
 "cells": [
  {
   "cell_type": "markdown",
   "metadata": {},
   "source": [
    "# Numpy / Pytorch Basic\n",
    "\n",
    "Pytorch를 사용하는 것에 아직 미숙함을 가지고 계실 분들을 위해 만들어본 자료입니다.\n",
    "\n",
    "본 자료는 http://www.numpy.org/ 를 참고하여 만들었습니다."
   ]
  },
  {
   "cell_type": "markdown",
   "metadata": {},
   "source": [
    "# Numpy"
   ]
  },
  {
   "cell_type": "code",
   "execution_count": 1,
   "metadata": {},
   "outputs": [],
   "source": [
    "import numpy as np"
   ]
  },
  {
   "cell_type": "code",
   "execution_count": 2,
   "metadata": {},
   "outputs": [],
   "source": [
    "data = np.random.randn(2, 3)"
   ]
  },
  {
   "cell_type": "code",
   "execution_count": 3,
   "metadata": {},
   "outputs": [
    {
     "name": "stdout",
     "output_type": "stream",
     "text": [
      "[[-0.17256013 -0.04127844  0.05806519]\n",
      " [ 0.78544634 -1.72464421  0.45212862]]\n",
      "[[-0.86280067 -0.20639221  0.29032595]\n",
      " [ 3.92723172 -8.62322104  2.26064309]]\n",
      "[[-0.34512027 -0.08255688  0.11613038]\n",
      " [ 1.57089269 -3.44928842  0.90425724]]\n",
      "(2, 3)\n",
      "float64\n"
     ]
    }
   ],
   "source": [
    "print (data)\n",
    "print (data*5)\n",
    "print (data+data)\n",
    "print (data.shape)\n",
    "print (data.dtype)"
   ]
  },
  {
   "cell_type": "code",
   "execution_count": 4,
   "metadata": {},
   "outputs": [
    {
     "name": "stdout",
     "output_type": "stream",
     "text": [
      "[[0. 0. 0. 0.]\n",
      " [0. 0. 0. 0.]]\n",
      "[[1. 1. 1. 1.]\n",
      " [1. 1. 1. 1.]]\n",
      "[[1. 0. 0. 0.]\n",
      " [0. 1. 0. 0.]\n",
      " [0. 0. 1. 0.]\n",
      " [0. 0. 0. 1.]]\n"
     ]
    }
   ],
   "source": [
    "data = np.zeros([2, 4])\n",
    "print (data)\n",
    "data = np.ones([2, 4])\n",
    "print (data)\n",
    "data = np.eye(4)\n",
    "print (data)"
   ]
  },
  {
   "cell_type": "code",
   "execution_count": 10,
   "metadata": {},
   "outputs": [
    {
     "name": "stdout",
     "output_type": "stream",
     "text": [
      "[1, 2, 3, 4]\n",
      "[4 6]\n",
      "[3 8]\n",
      "10\n",
      "11\n",
      "11\n"
     ]
    }
   ],
   "source": [
    "lst1 = [1, 2]\n",
    "lst2 = [3, 4]\n",
    "\n",
    "np1 = np.array([1, 2]) # np.asarray\n",
    "np2 = np.array([3, 4]) # np.asarray\n",
    "\n",
    "print (lst1 + lst2)\n",
    "print (np1 + np2)\n",
    "print (np1 * np2)\n",
    "\n",
    "print (sum(np1 + np2))\n",
    "print (np1.dot(np2))\n",
    "print (np.matmul(np1.reshape(1,-1), np2)[0]) # 1*2 1*2 연산안되므로 tor1을 reshape 함."
   ]
  },
  {
   "cell_type": "code",
   "execution_count": 12,
   "metadata": {},
   "outputs": [
    {
     "name": "stdout",
     "output_type": "stream",
     "text": [
      "(2, 3)\n",
      "(3, 2)\n",
      "[[87 88]\n",
      " [37 30]]\n"
     ]
    }
   ],
   "source": [
    "mat1 = np.array([[2, 5, 8], [5, 3, 1]])\n",
    "mat2 = np.array([[3, 2], [5, 4], [7, 8]])\n",
    "print (mat1.shape) # mat.size()\n",
    "print (mat2.shape)\n",
    "print (np.matmul(mat1, mat2))"
   ]
  },
  {
   "cell_type": "code",
   "execution_count": 19,
   "metadata": {},
   "outputs": [
    {
     "name": "stdout",
     "output_type": "stream",
     "text": [
      "[[ 0.02690352 -0.20458393 -0.59755324]\n",
      " [-0.43033293  1.24603727  0.92036134]\n",
      " [-0.58371012 -1.1486086  -1.09535687]\n",
      " [ 0.82526694 -0.68919969  0.19709017]]\n",
      "[-0.58371012 -1.1486086  -1.09535687]\n",
      "[-0.20458393  1.24603727 -1.1486086  -0.68919969]\n",
      "-1.1486086007845675\n"
     ]
    }
   ],
   "source": [
    "data = np.random.randn(4,3)\n",
    "print (data)\n",
    "print (data[2, :])\n",
    "print (data[:, 1])\n",
    "print (data[2][1])"
   ]
  },
  {
   "cell_type": "code",
   "execution_count": 20,
   "metadata": {},
   "outputs": [
    {
     "name": "stdout",
     "output_type": "stream",
     "text": [
      "-1.5336861500223553\n",
      "-0.1278071791685296\n",
      "0.5702687211140197\n",
      "0.7551613874623223\n"
     ]
    }
   ],
   "source": [
    "print (np.sum(data))\n",
    "print (np.mean(data))\n",
    "print (np.var(data))\n",
    "print (np.std(data))"
   ]
  },
  {
   "cell_type": "code",
   "execution_count": 22,
   "metadata": {},
   "outputs": [
    {
     "name": "stdout",
     "output_type": "stream",
     "text": [
      "(array([0, 1, 1, 3, 3]), array([0, 1, 2, 0, 2]))\n",
      "[[ True False False]\n",
      " [False  True  True]\n",
      " [False False False]\n",
      " [ True False  True]]\n",
      "[0.02690352 1.24603727 0.92036134 0.82526694 0.19709017]\n"
     ]
    }
   ],
   "source": [
    "print (np.where(data>0))\n",
    "print (np.where(data>0, True, False))\n",
    "print (data[np.where(data>0, True, False)])"
   ]
  },
  {
   "cell_type": "markdown",
   "metadata": {},
   "source": [
    "# Pytorch"
   ]
  },
  {
   "cell_type": "code",
   "execution_count": 1,
   "metadata": {},
   "outputs": [],
   "source": [
    "import torch"
   ]
  },
  {
   "cell_type": "code",
   "execution_count": 2,
   "metadata": {},
   "outputs": [
    {
     "data": {
      "text/plain": [
       "tensor([[ 1.3548,  0.4835, -0.7380],\n",
       "        [ 0.8203,  0.2838, -0.2831]])"
      ]
     },
     "execution_count": 2,
     "metadata": {},
     "output_type": "execute_result"
    }
   ],
   "source": [
    "data = torch.randn(2,3)\n",
    "data"
   ]
  },
  {
   "cell_type": "markdown",
   "metadata": {},
   "source": [
    "### Pytorch는 NumPy를 GPU의 사용을 용이하게 하는 tool이다."
   ]
  },
  {
   "cell_type": "code",
   "execution_count": 3,
   "metadata": {},
   "outputs": [
    {
     "name": "stdout",
     "output_type": "stream",
     "text": [
      "tensor([[ 1.3548,  0.4835, -0.7380],\n",
      "        [ 0.8203,  0.2838, -0.2831]])\n",
      "tensor([[ 6.7740,  2.4174, -3.6902],\n",
      "        [ 4.1015,  1.4192, -1.4155]])\n",
      "tensor([[ 2.7096,  0.9670, -1.4761],\n",
      "        [ 1.6406,  0.5677, -0.5662]])\n",
      "torch.Size([2, 3])\n",
      "torch.float32\n"
     ]
    }
   ],
   "source": [
    "print (data)\n",
    "print (data*5)\n",
    "print (data+data)\n",
    "print (data.shape)\n",
    "print (data.dtype)"
   ]
  },
  {
   "cell_type": "markdown",
   "metadata": {},
   "source": [
    "- Data를 생성하는 여러 방법"
   ]
  },
  {
   "cell_type": "code",
   "execution_count": 4,
   "metadata": {},
   "outputs": [
    {
     "name": "stdout",
     "output_type": "stream",
     "text": [
      "tensor([[0., 0., 0., 0.],\n",
      "        [0., 0., 0., 0.]])\n",
      "tensor([[1., 1., 1., 1.],\n",
      "        [1., 1., 1., 1.]])\n",
      "tensor([[1., 0., 0., 0.],\n",
      "        [0., 1., 0., 0.],\n",
      "        [0., 0., 1., 0.],\n",
      "        [0., 0., 0., 1.]])\n"
     ]
    }
   ],
   "source": [
    "data = torch.zeros([2,4])\n",
    "print (data)\n",
    "data = torch.ones([2,4])\n",
    "print (data)\n",
    "data = torch.eye(4)\n",
    "print (data)"
   ]
  },
  {
   "cell_type": "markdown",
   "metadata": {},
   "source": [
    "- list와 차이점 및 벡터 내적"
   ]
  },
  {
   "cell_type": "code",
   "execution_count": 5,
   "metadata": {},
   "outputs": [
    {
     "name": "stdout",
     "output_type": "stream",
     "text": [
      "[1, 2, 3, 4]\n",
      "tensor([4, 6])\n",
      "tensor([3, 8])\n",
      "tensor(10)\n",
      "tensor(11)\n",
      "tensor(11)\n"
     ]
    }
   ],
   "source": [
    "lst1 = [1, 2]\n",
    "lst2 = [3, 4]\n",
    "\n",
    "tor1 = torch.tensor([1, 2])\n",
    "tor2 = torch.tensor([3, 4])\n",
    "\n",
    "print (lst1 + lst2)\n",
    "print (tor1 + tor2)\n",
    "print (tor1 * tor2)\n",
    "\n",
    "print (sum(tor1 + tor2))\n",
    "print (tor1.dot(tor2))\n",
    "print (torch.matmul(tor1.view(1,-1), tor2)[0]) # 1*2 1*2 연산안되므로 tor1을 reshape 함.\n"
   ]
  },
  {
   "cell_type": "markdown",
   "metadata": {},
   "source": [
    "- 매트릭스의 곱 (Matrix Multiplication)"
   ]
  },
  {
   "cell_type": "code",
   "execution_count": 6,
   "metadata": {},
   "outputs": [
    {
     "name": "stdout",
     "output_type": "stream",
     "text": [
      "torch.Size([2, 3])\n",
      "torch.Size([3, 2])\n",
      "tensor([[87, 88],\n",
      "        [37, 30]])\n"
     ]
    }
   ],
   "source": [
    "mat1 = torch.tensor([[2, 5, 8], [5, 3, 1]])\n",
    "mat2 = torch.tensor([[3, 2], [5, 4], [7, 8]])\n",
    "print (mat1.shape) # mat.size()\n",
    "print (mat2.shape)\n",
    "print (torch.matmul(mat1, mat2))"
   ]
  },
  {
   "cell_type": "markdown",
   "metadata": {},
   "source": [
    "- 인덱싱 / 슬라이싱"
   ]
  },
  {
   "cell_type": "code",
   "execution_count": 7,
   "metadata": {},
   "outputs": [
    {
     "name": "stdout",
     "output_type": "stream",
     "text": [
      "tensor([[ 0.4364,  0.7245, -0.3274],\n",
      "        [-0.9677,  0.4115, -1.0458],\n",
      "        [-0.4748, -0.3486,  0.2886],\n",
      "        [-0.4584, -0.2704,  0.3775]])\n",
      "tensor([-0.4748, -0.3486,  0.2886])\n",
      "tensor([ 0.7245,  0.4115, -0.3486, -0.2704])\n",
      "tensor(-0.3486)\n"
     ]
    }
   ],
   "source": [
    "data = torch.randn(4,3)\n",
    "print (data)\n",
    "print (data[2, :])\n",
    "print (data[:, 1])\n",
    "print (data[2][1])"
   ]
  },
  {
   "cell_type": "markdown",
   "metadata": {},
   "source": [
    "- 기본적인 통계 관련 함수  "
   ]
  },
  {
   "cell_type": "code",
   "execution_count": 8,
   "metadata": {},
   "outputs": [
    {
     "name": "stdout",
     "output_type": "stream",
     "text": [
      "tensor(-1.6546)\n",
      "tensor(-0.1379)\n",
      "tensor(0.3318)\n",
      "tensor(0.5760)\n",
      "\n",
      "-1.6545647382736206\n",
      "-0.13788039982318878\n",
      "0.33181309700012207\n",
      "0.5760322213172913\n"
     ]
    }
   ],
   "source": [
    "print (torch.sum(data))\n",
    "print (torch.mean(data))\n",
    "print (torch.var(data))\n",
    "print (torch.std(data))\n",
    "print ()\n",
    "print (torch.sum(data).item())\n",
    "print (torch.mean(data).item())\n",
    "print (torch.var(data).item())\n",
    "print (torch.std(data).item())"
   ]
  },
  {
   "cell_type": "markdown",
   "metadata": {},
   "source": [
    "- Pytorch 조건문"
   ]
  },
  {
   "cell_type": "code",
   "execution_count": 9,
   "metadata": {},
   "outputs": [
    {
     "name": "stdout",
     "output_type": "stream",
     "text": [
      "tensor([[1., 1., 0.],\n",
      "        [0., 1., 0.],\n",
      "        [0., 0., 1.],\n",
      "        [0., 0., 1.]])\n"
     ]
    }
   ],
   "source": [
    "print (torch.where(data>0, torch.ones(data.shape), torch.zeros(data.shape)))"
   ]
  },
  {
   "cell_type": "markdown",
   "metadata": {},
   "source": [
    "- Numpy와 호환 "
   ]
  },
  {
   "cell_type": "code",
   "execution_count": 10,
   "metadata": {},
   "outputs": [],
   "source": [
    "import numpy"
   ]
  },
  {
   "cell_type": "code",
   "execution_count": 11,
   "metadata": {},
   "outputs": [
    {
     "name": "stdout",
     "output_type": "stream",
     "text": [
      "tensor([1., 1., 1., 1., 1.])\n",
      "[1. 1. 1. 1. 1.]\n",
      "tensor([1., 1., 1., 1., 1.])\n"
     ]
    }
   ],
   "source": [
    "a = torch.ones(5)\n",
    "print (a)\n",
    "b = a.numpy()\n",
    "print (b)\n",
    "a = torch.from_numpy(b)\n",
    "print (a)"
   ]
  },
  {
   "cell_type": "markdown",
   "metadata": {},
   "source": [
    "### GPU의 사용"
   ]
  },
  {
   "cell_type": "code",
   "execution_count": 12,
   "metadata": {},
   "outputs": [
    {
     "name": "stdout",
     "output_type": "stream",
     "text": [
      "True\n",
      "how many : 4\n",
      "4\n"
     ]
    }
   ],
   "source": [
    "print (torch.cuda.is_available())\n",
    "if torch.cuda.is_available():\n",
    "    print(\"how many : {}\".format(torch.cuda.device_count()))\n",
    "print (torch.cuda.device_count())"
   ]
  },
  {
   "cell_type": "code",
   "execution_count": 13,
   "metadata": {},
   "outputs": [],
   "source": [
    "device = 'cuda:0'\n",
    "x = torch.tensor([1,1]).to(device)"
   ]
  },
  {
   "cell_type": "code",
   "execution_count": 14,
   "metadata": {},
   "outputs": [
    {
     "name": "stdout",
     "output_type": "stream",
     "text": [
      "tensor([1, 1], device='cuda:0')\n",
      "tensor([1, 1])\n"
     ]
    }
   ],
   "source": [
    "x = torch.tensor([1,1]).cuda()\n",
    "print (x)\n",
    "x = x.cpu()\n",
    "print (x)"
   ]
  },
  {
   "cell_type": "code",
   "execution_count": 15,
   "metadata": {},
   "outputs": [
    {
     "name": "stdout",
     "output_type": "stream",
     "text": [
      "tensor([2.], requires_grad=True)\n",
      "tensor([1.], requires_grad=True)\n",
      "tensor([3.], grad_fn=<AddBackward0>)\n",
      "tensor([2.], grad_fn=<AddBackward0>)\n",
      "tensor([6.], grad_fn=<MulBackward0>)\n"
     ]
    }
   ],
   "source": [
    "# Computational Graph\n",
    "a = torch.tensor([2.], requires_grad = True)\n",
    "b = torch.tensor([1.], requires_grad = True)\n",
    "c = a + b\n",
    "d = b + 1\n",
    "e = c * d\n",
    "print (a)\n",
    "print (b)\n",
    "print (c)\n",
    "print (d)\n",
    "print (e)"
   ]
  },
  {
   "cell_type": "code",
   "execution_count": 16,
   "metadata": {},
   "outputs": [
    {
     "name": "stdout",
     "output_type": "stream",
     "text": [
      "tensor([2.])\n",
      "None\n",
      "None\n"
     ]
    }
   ],
   "source": [
    "print (a.data)\n",
    "print (a.grad)\n",
    "print (a.grad_fn)"
   ]
  },
  {
   "cell_type": "code",
   "execution_count": 17,
   "metadata": {},
   "outputs": [],
   "source": [
    "e.backward(retain_graph=True) # gradient가 계산됨."
   ]
  },
  {
   "cell_type": "code",
   "execution_count": 18,
   "metadata": {},
   "outputs": [
    {
     "name": "stdout",
     "output_type": "stream",
     "text": [
      "tensor([2.])\n",
      "tensor([5.])\n",
      "None\n",
      "None\n",
      "None\n"
     ]
    },
    {
     "name": "stderr",
     "output_type": "stream",
     "text": [
      "<ipython-input-18-0e4f815e7f57>:3: UserWarning: The .grad attribute of a Tensor that is not a leaf Tensor is being accessed. Its .grad attribute won't be populated during autograd.backward(). If you indeed want the gradient for a non-leaf Tensor, use .retain_grad() on the non-leaf Tensor. If you access the non-leaf Tensor by mistake, make sure you access the leaf Tensor instead. See github.com/pytorch/pytorch/pull/30531 for more information.\n",
      "  print (c.grad)\n",
      "<ipython-input-18-0e4f815e7f57>:4: UserWarning: The .grad attribute of a Tensor that is not a leaf Tensor is being accessed. Its .grad attribute won't be populated during autograd.backward(). If you indeed want the gradient for a non-leaf Tensor, use .retain_grad() on the non-leaf Tensor. If you access the non-leaf Tensor by mistake, make sure you access the leaf Tensor instead. See github.com/pytorch/pytorch/pull/30531 for more information.\n",
      "  print (d.grad)\n",
      "<ipython-input-18-0e4f815e7f57>:5: UserWarning: The .grad attribute of a Tensor that is not a leaf Tensor is being accessed. Its .grad attribute won't be populated during autograd.backward(). If you indeed want the gradient for a non-leaf Tensor, use .retain_grad() on the non-leaf Tensor. If you access the non-leaf Tensor by mistake, make sure you access the leaf Tensor instead. See github.com/pytorch/pytorch/pull/30531 for more information.\n",
      "  print (e.grad)\n"
     ]
    }
   ],
   "source": [
    "print (a.grad)\n",
    "print (b.grad)\n",
    "print (c.grad)\n",
    "print (d.grad)\n",
    "print (e.grad)"
   ]
  },
  {
   "cell_type": "code",
   "execution_count": 19,
   "metadata": {},
   "outputs": [],
   "source": [
    "# Computational Graph\n",
    "a = torch.tensor([2.], requires_grad = True)\n",
    "b = torch.tensor([1.], requires_grad = True)\n",
    "c = a + b\n",
    "d = b + 1\n",
    "e = c * d\n",
    "\n",
    "c.retain_grad()\n",
    "d.retain_grad()\n",
    "e.retain_grad()"
   ]
  },
  {
   "cell_type": "code",
   "execution_count": 20,
   "metadata": {},
   "outputs": [],
   "source": [
    "e.backward(retain_graph=True)"
   ]
  },
  {
   "cell_type": "code",
   "execution_count": 21,
   "metadata": {},
   "outputs": [
    {
     "name": "stdout",
     "output_type": "stream",
     "text": [
      "tensor([2.])\n",
      "tensor([5.])\n",
      "tensor([2.])\n",
      "tensor([3.])\n",
      "tensor([1.])\n"
     ]
    }
   ],
   "source": [
    "print (a.grad)\n",
    "print (b.grad)\n",
    "print (c.grad)\n",
    "print (d.grad)\n",
    "print (e.grad)"
   ]
  },
  {
   "cell_type": "code",
   "execution_count": 22,
   "metadata": {},
   "outputs": [
    {
     "name": "stdout",
     "output_type": "stream",
     "text": [
      "tensor([0.])\n",
      "tensor([0.])\n",
      "tensor([0.])\n",
      "tensor([0.])\n",
      "tensor([0.])\n"
     ]
    }
   ],
   "source": [
    "a.grad.zero_()\n",
    "b.grad.zero_()\n",
    "c.grad.zero_()\n",
    "d.grad.zero_()\n",
    "e.grad.zero_()\n",
    "\n",
    "print (a.grad)\n",
    "print (b.grad)\n",
    "print (c.grad)\n",
    "print (d.grad)\n",
    "print (e.grad)"
   ]
  },
  {
   "cell_type": "code",
   "execution_count": 23,
   "metadata": {},
   "outputs": [
    {
     "name": "stdout",
     "output_type": "stream",
     "text": [
      "False\n"
     ]
    }
   ],
   "source": [
    "a = a.detach()\n",
    "print (a.requires_grad)"
   ]
  }
 ],
 "metadata": {
  "kernelspec": {
   "display_name": "Python 3",
   "language": "python",
   "name": "python3"
  },
  "language_info": {
   "codemirror_mode": {
    "name": "ipython",
    "version": 3
   },
   "file_extension": ".py",
   "mimetype": "text/x-python",
   "name": "python",
   "nbconvert_exporter": "python",
   "pygments_lexer": "ipython3",
   "version": "3.8.8"
  }
 },
 "nbformat": 4,
 "nbformat_minor": 4
}
