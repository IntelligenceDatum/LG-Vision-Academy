{
 "cells": [
  {
   "cell_type": "markdown",
   "id": "60f9ad38",
   "metadata": {},
   "source": [
    "# STOCK PRICING PREDICTION"
   ]
  },
  {
   "cell_type": "code",
   "execution_count": 1,
   "id": "3fa616ae",
   "metadata": {},
   "outputs": [],
   "source": [
    "from __future__ import print_function\n",
    "import os\n",
    "import numpy as np\n",
    "import matplotlib\n",
    "import matplotlib.pyplot as plt\n",
    "\n",
    "import torch\n",
    "import torch.nn as nn\n",
    "import torch.nn.functional as F\n",
    "import torch.optim as optim"
   ]
  },
  {
   "cell_type": "markdown",
   "id": "0acdbfa0",
   "metadata": {},
   "source": [
    "LOAD DATASET"
   ]
  },
  {
   "cell_type": "code",
   "execution_count": 2,
   "id": "ef1050f4",
   "metadata": {},
   "outputs": [
    {
     "name": "stdout",
     "output_type": "stream",
     "text": [
      "SHAPE OF X IS (732, 5)\n",
      "SHAPE OF Y IS (732, 1)\n"
     ]
    }
   ],
   "source": [
    "def MinMaxScaler(data):\n",
    "    numerator = data - np.min(data, 0)\n",
    "    denominator = np.max(data, 0) - np.min(data, 0)\n",
    "    return numerator / (denominator + 1e-7)\n",
    "\n",
    "xy = np.loadtxt('data/data-02-stock_daily.csv', delimiter=',')\n",
    "xy = xy[::-1] # REVERSE ORDER (chronically ordered)\n",
    "xy = MinMaxScaler(xy)\n",
    "x = xy\n",
    "y = xy[:, [-1]]\n",
    "print (\"SHAPE OF X IS %s\" % (x.shape,))\n",
    "print (\"SHAPE OF Y IS %s\" % (y.shape,))"
   ]
  },
  {
   "cell_type": "markdown",
   "id": "6a97a67e",
   "metadata": {},
   "source": [
    "# DATASET HAS FIVE ITEMS\n",
    "\n",
    "***OPEN / HIGH / LOW / VOLUME / CLOSE***\n",
    "\n",
    "***OBJECTIVE IS TO PREDICT 'CLOSE' GIVEN 7 PREVIOUS ITEMS***\n",
    "\n",
    "# BUILD A DATASET"
   ]
  },
  {
   "cell_type": "code",
   "execution_count": 3,
   "id": "3e81a920",
   "metadata": {},
   "outputs": [
    {
     "name": "stdout",
     "output_type": "stream",
     "text": [
      " [INPUT]\n",
      "[[2.13751054e-01 2.08179810e-01 1.91791832e-01 4.66075110e-04\n",
      "  1.92092403e-01]\n",
      " [1.93935034e-01 2.03641926e-01 2.08664571e-01 2.98467330e-03\n",
      "  1.96551555e-01]\n",
      " [2.10516454e-01 2.05289413e-01 2.03558748e-01 2.59926504e-04\n",
      "  1.87749731e-01]\n",
      " [1.86678765e-01 2.09480567e-01 2.08781843e-01 0.00000000e+00\n",
      "  2.17448151e-01]\n",
      " [3.06973882e-01 3.14634137e-01 2.18993665e-01 1.24764722e-02\n",
      "  2.16981885e-01]\n",
      " [2.19142110e-01 2.63907214e-01 2.24686396e-01 4.56323384e-01\n",
      "  2.24967473e-01]\n",
      " [2.33129931e-01 2.36419163e-01 1.62682724e-01 5.70171193e-01\n",
      "  1.47442742e-01]] \n",
      "   =>\n",
      " [OUTPUT] \n",
      "[0.13289962]\n",
      "\n",
      "TYPE   OF    'dataX' IS [<class 'list'>].\n",
      "LENGTH OF    'dataX' IS [725].\n",
      "LENGTH OF 'dataX[0]' IS [7].\n",
      "\n",
      "TYPE   OF    'dataY' IS [<class 'list'>].\n",
      "LENGTH OF    'dataY' IS [725].\n",
      "LENGTH OF 'dataY[0]' IS [1].\n"
     ]
    }
   ],
   "source": [
    "timesteps = seq_length = 7\n",
    "data_dim = 5\n",
    "dataX, dataY = [], []\n",
    "\n",
    "for i in range(0, len(y) - seq_length):\n",
    "    _x = x[i:i + seq_length]\n",
    "    _y = y[i + seq_length]\n",
    "    dataX.append(_x)\n",
    "    dataY.append(_y)\n",
    "    if i == 0:\n",
    "        print(\" [INPUT]\\n%s \\n   =>\\n [OUTPUT] \\n%s\" % (_x, _y))\n",
    "\n",
    "print ()\n",
    "print (\"TYPE   OF    'dataX' IS [%s].\" % (type(dataX)))\n",
    "print (\"LENGTH OF    'dataX' IS [%d].\" % (len(dataX)))\n",
    "print (\"LENGTH OF 'dataX[0]' IS [%d].\" % (len(dataX[0])))\n",
    "\n",
    "print ()\n",
    "print (\"TYPE   OF    'dataY' IS [%s].\" % (type(dataY)))\n",
    "print (\"LENGTH OF    'dataY' IS [%d].\" % (len(dataY)))\n",
    "print (\"LENGTH OF 'dataY[0]' IS [%d].\" % (len(dataY[0])))"
   ]
  },
  {
   "cell_type": "markdown",
   "id": "46b93788",
   "metadata": {},
   "source": [
    "# SPLIT TRAIN (70%) AND TEST (30%)"
   ]
  },
  {
   "cell_type": "code",
   "execution_count": 4,
   "id": "ccfdde62",
   "metadata": {},
   "outputs": [],
   "source": [
    "def print_np(_name, _x):\n",
    "    print(\"TYPE  OF [%s] is [%s]\" % (_name, type(_x)))\n",
    "    print(\"SHAPE OF [%s] is %s\" % (_name, _x.shape,))"
   ]
  },
  {
   "cell_type": "code",
   "execution_count": 5,
   "id": "4ce4698a",
   "metadata": {},
   "outputs": [
    {
     "name": "stdout",
     "output_type": "stream",
     "text": [
      "TYPE  OF [trainX] is [<class 'torch.Tensor'>]\n",
      "SHAPE OF [trainX] is torch.Size([507, 7, 5])\n",
      "TYPE  OF [trainY] is [<class 'torch.Tensor'>]\n",
      "SHAPE OF [trainY] is torch.Size([507, 1])\n",
      "TYPE  OF [testX] is [<class 'torch.Tensor'>]\n",
      "SHAPE OF [testX] is torch.Size([218, 7, 5])\n",
      "TYPE  OF [testY] is [<class 'torch.Tensor'>]\n",
      "SHAPE OF [testY] is torch.Size([218, 1])\n"
     ]
    }
   ],
   "source": [
    "train_size = int(len(dataY) * 0.7)\n",
    "test_size  = len(dataY) - train_size\n",
    "trainX = torch.tensor(dataX[0:train_size], dtype=torch.float)\n",
    "trainY = torch.tensor(dataY[0:train_size], dtype=torch.float)\n",
    "testX  = torch.tensor(dataX[train_size:len(dataX)], dtype=torch.float)\n",
    "testY  = torch.tensor(dataY[train_size:len(dataY)], dtype=torch.float)\n",
    "print_np('trainX', trainX)\n",
    "print_np('trainY', trainY)\n",
    "print_np('testX', testX)\n",
    "print_np('testY', testY)"
   ]
  },
  {
   "cell_type": "markdown",
   "id": "7f98b3e0",
   "metadata": {},
   "source": [
    "# DEFINE MODEL"
   ]
  },
  {
   "cell_type": "code",
   "execution_count": 6,
   "id": "b737a59b",
   "metadata": {},
   "outputs": [],
   "source": [
    "class StockRNN(nn.Module):\n",
    "    def __init__(self, input_size, n_hidden, output_size):\n",
    "        super(StockRNN, self).__init__()\n",
    "        self.rnn = nn.LSTM(input_size=input_size, hidden_size=n_hidden)\n",
    "        self.W = nn.Parameter(torch.randn([n_hidden, output_size]).type(torch.float))\n",
    "        self.b = nn.Parameter(torch.randn([output_size]).type(torch.float))\n",
    "        \n",
    "    def forward(self, hidden_and_cell, X):\n",
    "        X = X.transpose(0, 1)\n",
    "        outputs, hidden = self.rnn(X, hidden_and_cell)\n",
    "        outputs = outputs[-1] # 최종 예측 Hidden Layer\n",
    "        model = torch.mm(outputs, self.W) + self.b # 최종 예측 출력 층\n",
    "        return model"
   ]
  },
  {
   "cell_type": "markdown",
   "id": "16df3e43",
   "metadata": {},
   "source": [
    "# DEFINE PARAMETERS"
   ]
  },
  {
   "cell_type": "code",
   "execution_count": 7,
   "id": "89c30bb0",
   "metadata": {},
   "outputs": [],
   "source": [
    "hidden_dim   = 10\n",
    "output_dim   = 1\n",
    "learning_rate = 0.01\n",
    "iterations   = 500\n",
    "\n",
    "batch_size = len(trainX)\n",
    "\n",
    "model = StockRNN(input_size=data_dim, n_hidden=hidden_dim, output_size=output_dim)\n",
    "criterion = nn.MSELoss()\n",
    "optimizer = optim.Adam(model.parameters(), lr=learning_rate)"
   ]
  },
  {
   "cell_type": "markdown",
   "id": "0362bc7b",
   "metadata": {},
   "source": [
    "# TRAIN"
   ]
  },
  {
   "cell_type": "code",
   "execution_count": 8,
   "id": "c278909a",
   "metadata": {},
   "outputs": [
    {
     "name": "stdout",
     "output_type": "stream",
     "text": [
      "Epoch: 0100 Loss = 0.001237\n",
      "Epoch: 0200 Loss = 0.001117\n",
      "Epoch: 0300 Loss = 0.001028\n",
      "Epoch: 0400 Loss = 0.000967\n",
      "Epoch: 0500 Loss = 0.000924\n",
      "OPTIMIZATION FINISHED\n"
     ]
    }
   ],
   "source": [
    "losses = []\n",
    "\n",
    "model.train()\n",
    "for epoch in range(iterations):\n",
    "    hidden = torch.zeros(1, batch_size, hidden_dim, requires_grad=True)\n",
    "    cell = torch.zeros(1, batch_size, hidden_dim, requires_grad=True)\n",
    "    output = model((hidden, cell), trainX)\n",
    "    loss = criterion(output, trainY)\n",
    "    \n",
    "    losses.append(loss.item())\n",
    "    if (epoch + 1) % 100 == 0:\n",
    "        print('Epoch:', '%04d' % (epoch + 1), 'Loss =', '{:.6f}'.format(loss))\n",
    "        \n",
    "    optimizer.zero_grad()\n",
    "    loss.backward()\n",
    "    optimizer.step()\n",
    "print ('OPTIMIZATION FINISHED')"
   ]
  },
  {
   "cell_type": "markdown",
   "id": "0538247e",
   "metadata": {},
   "source": [
    "# PLOT LOSS"
   ]
  },
  {
   "cell_type": "code",
   "execution_count": 9,
   "id": "0a2317a2",
   "metadata": {},
   "outputs": [
    {
     "data": {
      "image/png": "[encoded data removed]",
      "text/plain": [
       "<Figure size 432x216 with 1 Axes>"
      ]
     },
     "metadata": {
      "needs_background": "light"
     },
     "output_type": "display_data"
    }
   ],
   "source": [
    "plt.figure(figsize=(6,3))\n",
    "plt.plot(losses)\n",
    "plt.title('LOSS')\n",
    "plt.show()"
   ]
  },
  {
   "cell_type": "markdown",
   "id": "cb09ee8f",
   "metadata": {},
   "source": [
    "# TEST"
   ]
  },
  {
   "cell_type": "code",
   "execution_count": 10,
   "id": "6dfbfb88",
   "metadata": {},
   "outputs": [
    {
     "name": "stdout",
     "output_type": "stream",
     "text": [
      "TYPE  OF [testX] is [<class 'torch.Tensor'>]\n",
      "SHAPE OF [testX] is torch.Size([218, 7, 5])\n",
      "TYPE  OF [test_predict] is [<class 'torch.Tensor'>]\n",
      "SHAPE OF [test_predict] is torch.Size([218, 1])\n",
      "RMSE: 0.0006174131995067\n"
     ]
    }
   ],
   "source": [
    "model.eval()\n",
    "\n",
    "hidden = torch.zeros(1, len(testX), hidden_dim, requires_grad=False)\n",
    "cell = torch.zeros(1, len(testX), hidden_dim, requires_grad=False)\n",
    "predict = model((hidden, cell), testX)\n",
    "rmse = F.mse_loss(predict, testY)\n",
    "\n",
    "print_np('testX', testX)\n",
    "print_np('test_predict', predict)\n",
    "print(\"RMSE: {}\".format(rmse))"
   ]
  },
  {
   "cell_type": "markdown",
   "id": "65a26fc5",
   "metadata": {},
   "source": [
    "# PLOT PREDICTIONS"
   ]
  },
  {
   "cell_type": "code",
   "execution_count": 11,
   "id": "07818761",
   "metadata": {},
   "outputs": [
    {
     "data": {
      "image/png": "[encoded data removed]",
      "text/plain": [
       "<Figure size 432x288 with 1 Axes>"
      ]
     },
     "metadata": {
      "needs_background": "light"
     },
     "output_type": "display_data"
    }
   ],
   "source": [
    "plt.plot(testY.data)\n",
    "plt.plot(predict.data)\n",
    "plt.xlabel(\"Time Period\")\n",
    "plt.ylabel(\"Stock Price\")\n",
    "plt.legend(['True', 'Predict'])\n",
    "plt.show()"
   ]
  }
 ],
 "metadata": {
  "kernelspec": {
   "display_name": "Python 3",
   "language": "python",
   "name": "python3"
  },
  "language_info": {
   "codemirror_mode": {
    "name": "ipython",
    "version": 3
   },
   "file_extension": ".py",
   "mimetype": "text/x-python",
   "name": "python",
   "nbconvert_exporter": "python",
   "pygments_lexer": "ipython3",
   "version": "3.8.8"
  }
 },
 "nbformat": 4,
 "nbformat_minor": 5
}
