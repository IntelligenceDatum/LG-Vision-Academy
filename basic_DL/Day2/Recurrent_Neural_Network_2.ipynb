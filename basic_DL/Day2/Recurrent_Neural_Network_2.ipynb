{
 "cells": [
  {
   "cell_type": "code",
   "execution_count": null,
   "metadata": {},
   "outputs": [],
   "source": [
    "# from google.colab import drive\n",
    "# drive.mount('/content/drive')"
   ]
  },
  {
   "cell_type": "code",
   "execution_count": null,
   "metadata": {},
   "outputs": [],
   "source": [
    "# cd /content/drive/Mydrive/LG_AI_2021/LG-Vision-Academy/basic_DL/Day2/"
   ]
  },
  {
   "cell_type": "markdown",
   "metadata": {},
   "source": [
    "# STOCK PRICING PREDICTION"
   ]
  },
  {
   "cell_type": "code",
   "execution_count": null,
   "metadata": {},
   "outputs": [],
   "source": [
    "from __future__ import print_function\n",
    "import os\n",
    "import numpy as np\n",
    "import matplotlib\n",
    "import matplotlib.pyplot as plt\n",
    "\n",
    "import torch\n",
    "import torch.nn as nn\n",
    "import torch.nn.functional as F\n",
    "import torch.optim as optim"
   ]
  },
  {
   "cell_type": "markdown",
   "metadata": {},
   "source": [
    "LOAD DATASET"
   ]
  },
  {
   "cell_type": "code",
   "execution_count": null,
   "metadata": {},
   "outputs": [],
   "source": [
    "def MinMaxScaler(data):\n",
    "    numerator = data - np.min(data, 0)\n",
    "    denominator = np.max(data, 0) - np.min(data, 0)\n",
    "    return numerator / (denominator + 1e-7)\n",
    "\n",
    "xy = np.loadtxt('data/data-02-stock_daily.csv', delimiter=',')\n",
    "xy = xy[::-1] # REVERSE ORDER (chronically ordered)\n",
    "xy = MinMaxScaler(xy)\n",
    "x = xy\n",
    "y = xy[:, [-1]]\n",
    "print (\"SHAPE OF X IS %s\" % (x.shape,))\n",
    "print (\"SHAPE OF Y IS %s\" % (y.shape,))"
   ]
  },
  {
   "cell_type": "markdown",
   "metadata": {},
   "source": [
    "# DATASET HAS FIVE ITEMS\n",
    "\n",
    "***OPEN / HIGH / LOW / VOLUME / CLOSE***\n",
    "\n",
    "***OBJECTIVE IS TO PREDICT 'CLOSE' GIVEN 7 PREVIOUS ITEMS***\n",
    "\n",
    "# BUILD A DATASET"
   ]
  },
  {
   "cell_type": "code",
   "execution_count": null,
   "metadata": {},
   "outputs": [],
   "source": [
    "timesteps = seq_length = 7\n",
    "data_dim = 5\n",
    "dataX, dataY = [], []\n",
    "\n",
    "for i in range(0, len(y) - seq_length):\n",
    "    \n",
    "    _x = # Make batch of x\n",
    "    _y = # Make batch of y\n",
    "    dataX.append(_x)\n",
    "    dataY.append(_y)\n",
    "    if i == 0:\n",
    "        print(\" [INPUT]\\n%s \\n   =>\\n [OUTPUT] \\n%s\" % (_x, _y))\n",
    "\n",
    "print ()\n",
    "print (\"TYPE   OF    'dataX' IS [%s].\" % (type(dataX)))\n",
    "print (\"LENGTH OF    'dataX' IS [%d].\" % (len(dataX)))\n",
    "print (\"LENGTH OF 'dataX[0]' IS [%d].\" % (len(dataX[0])))\n",
    "\n",
    "print ()\n",
    "print (\"TYPE   OF    'dataY' IS [%s].\" % (type(dataY)))\n",
    "print (\"LENGTH OF    'dataY' IS [%d].\" % (len(dataY)))\n",
    "print (\"LENGTH OF 'dataY[0]' IS [%d].\" % (len(dataY[0])))"
   ]
  },
  {
   "cell_type": "markdown",
   "metadata": {},
   "source": [
    "# SPLIT TRAIN (70%) AND TEST (30%)"
   ]
  },
  {
   "cell_type": "code",
   "execution_count": null,
   "metadata": {},
   "outputs": [],
   "source": [
    "def print_np(_name, _x):\n",
    "    print(\"TYPE  OF [%s] is [%s]\" % (_name, type(_x)))\n",
    "    print(\"SHAPE OF [%s] is %s\" % (_name, _x.shape,))"
   ]
  },
  {
   "cell_type": "code",
   "execution_count": null,
   "metadata": {},
   "outputs": [],
   "source": [
    "train_size = int(len(dataY) * 0.7)\n",
    "test_size  = len(dataY) - train_size\n",
    "trainX = # indexing train dataset X\n",
    "trainY = # indexing train dataset Y\n",
    "testX  = # indexing test dataset X\n",
    "testY  = # indexing test dataset Y\n",
    "print_np('trainX', trainX)\n",
    "print_np('trainY', trainY)\n",
    "print_np('testX', testX)\n",
    "print_np('testY', testY)"
   ]
  },
  {
   "cell_type": "markdown",
   "metadata": {},
   "source": [
    "# DEFINE MODEL"
   ]
  },
  {
   "cell_type": "code",
   "execution_count": null,
   "metadata": {},
   "outputs": [],
   "source": [
    "class StockRNN(nn.Module):\n",
    "    def __init__(self, input_size, n_hidden, output_size):\n",
    "        super(StockRNN, self).__init__()\n",
    "        self.rnn = # LSTM 정의\n",
    "        self.W = # Linear layer weight\n",
    "        self.b = # Linear layer bias\n",
    "        \n",
    "    def forward(self, hidden_and_cell, X):\n",
    "        ##############################################\n",
    "        \n",
    "        \n",
    "        # MAKE YOUR OWN CODES\n",
    "        \n",
    "        \n",
    "        \n",
    "        ###############################################"
   ]
  },
  {
   "cell_type": "markdown",
   "metadata": {},
   "source": [
    "# DEFINE PARAMETERS"
   ]
  },
  {
   "cell_type": "code",
   "execution_count": null,
   "metadata": {},
   "outputs": [],
   "source": [
    "hidden_dim   = 10\n",
    "output_dim   = 1\n",
    "learning_rate = 0.01\n",
    "iterations   = 500\n",
    "\n",
    "batch_size = len(trainX)\n",
    "\n",
    "model = StockRNN(input_size=data_dim, n_hidden=hidden_dim, output_size=output_dim)\n",
    "criterion = # MSE LOSS\n",
    "optimizer = # ADAM OPTIMIZER"
   ]
  },
  {
   "cell_type": "markdown",
   "metadata": {},
   "source": [
    "# TRAIN"
   ]
  },
  {
   "cell_type": "code",
   "execution_count": null,
   "metadata": {},
   "outputs": [],
   "source": [
    "losses = []\n",
    "\n",
    "model.train()\n",
    "for epoch in range(iterations):\n",
    "    #######################################################\n",
    "    \n",
    "    \n",
    "    \n",
    "    # MAKE YOUR OWN CODES\n",
    "    \n",
    "    \n",
    "    \n",
    "    #########################################################\n",
    "print ('OPTIMIZATION FINISHED')"
   ]
  },
  {
   "cell_type": "markdown",
   "metadata": {},
   "source": [
    "# PLOT LOSS"
   ]
  },
  {
   "cell_type": "code",
   "execution_count": null,
   "metadata": {},
   "outputs": [],
   "source": [
    "plt.figure(figsize=(6,3))\n",
    "plt.plot(losses)\n",
    "plt.title('LOSS')\n",
    "plt.show()"
   ]
  },
  {
   "cell_type": "markdown",
   "metadata": {},
   "source": [
    "# TEST"
   ]
  },
  {
   "cell_type": "code",
   "execution_count": null,
   "metadata": {},
   "outputs": [],
   "source": [
    "model.eval()\n",
    "\n",
    "hidden = # MAKE ARBITRARY TENSOR WITH PARTICULAR SHAPE (ZEROS, ONES, RANDN, ...)\n",
    "cell = # MAKE ARBITRARY TENSOR WITH PARTICULAR SHAPE (ZEROS, ONES, RANDN, ...)\n",
    "predict = # PREDICT FOR TEST DATA\n",
    "rmse = # COMPUTE MSE LOSS BETWEEN PREDICT AND TRUE\n",
    "\n",
    "print_np('testX', testX)\n",
    "print_np('test_predict', predict)\n",
    "print(\"RMSE: {}\".format(rmse))"
   ]
  },
  {
   "cell_type": "markdown",
   "metadata": {},
   "source": [
    "# PLOT PREDICTIONS"
   ]
  },
  {
   "cell_type": "code",
   "execution_count": null,
   "metadata": {},
   "outputs": [],
   "source": [
    "plt.plot(testY.data)\n",
    "plt.plot(predict.data)\n",
    "plt.xlabel(\"Time Period\")\n",
    "plt.ylabel(\"Stock Price\")\n",
    "plt.legend(['True', 'Predict'])\n",
    "plt.show()"
   ]
  }
 ],
 "metadata": {
  "kernelspec": {
   "display_name": "Python 3",
   "language": "python",
   "name": "python3"
  },
  "language_info": {
   "codemirror_mode": {
    "name": "ipython",
    "version": 3
   },
   "file_extension": ".py",
   "mimetype": "text/x-python",
   "name": "python",
   "nbconvert_exporter": "python",
   "pygments_lexer": "ipython3",
   "version": "3.7.9"
  }
 },
 "nbformat": 4,
 "nbformat_minor": 5
}
