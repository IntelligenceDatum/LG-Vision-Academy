{
 "cells": [
  {
   "cell_type": "markdown",
   "id": "26ea8108",
   "metadata": {},
   "source": [
    "# SIMPLE CHAR-RNN"
   ]
  },
  {
   "cell_type": "code",
   "execution_count": 1,
   "id": "fa3b9e26",
   "metadata": {},
   "outputs": [],
   "source": [
    "import numpy as np\n",
    "import torch\n",
    "import torch.nn as nn\n",
    "import torch.optim as optim"
   ]
  },
  {
   "cell_type": "markdown",
   "id": "fa3f9f62",
   "metadata": {},
   "source": [
    "WORD PROCESSING"
   ]
  },
  {
   "cell_type": "code",
   "execution_count": 2,
   "id": "16291c0b",
   "metadata": {},
   "outputs": [],
   "source": [
    "sentences = [\"i like dog\", \"i love coffe\", \"i hate milk\", \"you like cat\", \"you love milk\", \"you hate coffe\"]\n",
    "dtype = torch.float\n",
    "\n",
    "word_list = list(set(\" \".join(sentences).split()))\n",
    "word_dict = {w: i for i, w in enumerate(word_list)}\n",
    "number_dict = {i: w for i, w in enumerate(word_list)}\n",
    "n_class = len(word_dict)"
   ]
  },
  {
   "cell_type": "markdown",
   "id": "a87517c8",
   "metadata": {},
   "source": [
    "TextRNN PARAMETERS"
   ]
  },
  {
   "cell_type": "code",
   "execution_count": 3,
   "id": "8bc7da9c",
   "metadata": {},
   "outputs": [],
   "source": [
    "batch_size = len(sentences)\n",
    "n_step = 2 # 학습 하려고 하는 문장의 길이 - 1\n",
    "n_hidden = 5 # 은닉층 사이즈\n",
    "\n",
    "def make_batch(sentences):\n",
    "    input_batch = []\n",
    "    target_batch = []\n",
    "    \n",
    "    for sen in sentences:\n",
    "        word = sen.split()\n",
    "        input = [word_dict[n] for n in word[:-1]]\n",
    "        target = word_dict[word[-1]]\n",
    "        \n",
    "        input_batch.append(np.eye(n_class)[input])  # One-Hot Encoding\n",
    "        target_batch.append(target)\n",
    "  \n",
    "    return input_batch, target_batch\n",
    "\n",
    "input_batch, target_batch = make_batch(sentences)\n",
    "input_batch = torch.tensor(input_batch, dtype=torch.float32, requires_grad=True)\n",
    "target_batch = torch.tensor(target_batch, dtype=torch.int64)"
   ]
  },
  {
   "cell_type": "markdown",
   "id": "fb3effcb",
   "metadata": {},
   "source": [
    "TextRNN"
   ]
  },
  {
   "cell_type": "code",
   "execution_count": 4,
   "id": "38eb24c4",
   "metadata": {},
   "outputs": [],
   "source": [
    "class TextRNN(nn.Module):\n",
    "    def __init__(self):\n",
    "        super(TextRNN, self).__init__()\n",
    "\n",
    "        self.rnn = # RNN Module\n",
    "        self.W = # Linear Layer의 weight\n",
    "        self.b = # Linear Layer의 bias\n",
    "\n",
    "    def forward(self, hidden, X):\n",
    "        X = X.transpose(0, 1)\n",
    "        outputs, hidden = self.rnn(X, hidden)\n",
    "        outputs = outputs[-1]  # 최종 예측 Hidden Layer\n",
    "        model = torch.mm(outputs, self.W) + self.b  # 최종 예측 최종 출력 층\n",
    "        return model"
   ]
  },
  {
   "cell_type": "markdown",
   "id": "b0c5a09d",
   "metadata": {},
   "source": [
    "Training"
   ]
  },
  {
   "cell_type": "code",
   "execution_count": 5,
   "id": "5fb7ab1a",
   "metadata": {},
   "outputs": [
    {
     "name": "stdout",
     "output_type": "stream",
     "text": [
      "Epoch: 0100 cost = 0.361957\n",
      "Epoch: 0200 cost = 0.058489\n",
      "Epoch: 0300 cost = 0.026157\n",
      "Epoch: 0400 cost = 0.015619\n",
      "Epoch: 0500 cost = 0.010610\n",
      "OPTIMIZATION FINISHED\n"
     ]
    }
   ],
   "source": [
    "model = # Model 정의\n",
    "criterion = # Loss는 Cross Entropy Loss\n",
    "optimizer = # Adam Optimizer\n",
    "\n",
    "for epoch in range(500):\n",
    "    ##################################################################\n",
    "    \n",
    "    \n",
    "    \n",
    "    \n",
    "    # MAKE YOUR OWN CODES FOR TRAINING\n",
    "    # YOUR CODE SHOULD CONTAIN OUPUT, LOSS, OPTIMIZER.\n",
    "    \n",
    "    \n",
    "    \n",
    "    \n",
    "    ##################################################################\n",
    "print ('OPTIMIZATION FINISHED')"
   ]
  },
  {
   "cell_type": "markdown",
   "id": "4f1098e1",
   "metadata": {},
   "source": [
    "TEST"
   ]
  },
  {
   "cell_type": "code",
   "execution_count": 6,
   "id": "7c66dfd0",
   "metadata": {},
   "outputs": [
    {
     "name": "stdout",
     "output_type": "stream",
     "text": [
      "[['i', 'like'], ['i', 'love'], ['i', 'hate'], ['you', 'like'], ['you', 'love'], ['you', 'hate']] -> ['dog', 'coffe', 'milk', 'cat', 'milk', 'coffe']\n"
     ]
    }
   ],
   "source": [
    "input = [sen.split()[:2] for sen in sentences]\n",
    "\n",
    "hidden = torch.zeros(1, batch_size, n_hidden, requires_grad=True)\n",
    "predict = model(hidden, input_batch).data.max(1, keepdim=True)[1]\n",
    "print([sen.split()[:2] for sen in sentences], '->', [number_dict[n.item()] for n in predict.squeeze()])"
   ]
  },
  {
   "cell_type": "markdown",
   "id": "4a259d71",
   "metadata": {},
   "source": [
    "---------\n",
    "\n",
    "# SIMPLE CHAR-LSTM"
   ]
  },
  {
   "cell_type": "code",
   "execution_count": 7,
   "id": "68c5fa90",
   "metadata": {},
   "outputs": [],
   "source": [
    "import numpy as np\n",
    "import torch\n",
    "import torch.nn as nn\n",
    "import torch.optim as optim\n",
    "\n",
    "sentences = [\"i like dog\", \"i love coffee\", \"i hate milk\", \"you like cat\", \"you love milk\", \"you hate coffee\"]\n",
    "dtype = torch.float"
   ]
  },
  {
   "cell_type": "markdown",
   "id": "cfefdc2a",
   "metadata": {},
   "source": [
    "WORD PROCESSING"
   ]
  },
  {
   "cell_type": "code",
   "execution_count": 8,
   "id": "0a865cfe",
   "metadata": {},
   "outputs": [],
   "source": [
    "word_list = list(set(\" \".join(sentences).split()))\n",
    "word_dict = {w: i for i, w in enumerate(word_list)}\n",
    "number_dict = {i: w for i, w in enumerate(word_list)}\n",
    "n_class = len(word_dict)"
   ]
  },
  {
   "cell_type": "markdown",
   "id": "3e804ed1",
   "metadata": {},
   "source": [
    "TextLSTM PARAMETERS"
   ]
  },
  {
   "cell_type": "code",
   "execution_count": 9,
   "id": "c318c284",
   "metadata": {},
   "outputs": [],
   "source": [
    "batch_size = len(sentences)\n",
    "n_step = 2 # 학습 하려고 하는 문장의 길이 - 1\n",
    "n_hidden = 5 # 은닉층 사이즈\n",
    "\n",
    "def make_batch(sentences):\n",
    "    input_batch = []\n",
    "    target_batch = []\n",
    "    \n",
    "    for sen in sentences:\n",
    "        word = sen.split()\n",
    "        input = [word_dict[n] for n in word[:-1]]\n",
    "        target = word_dict[word[-1]]\n",
    "        \n",
    "        input_batch.append(np.eye(n_class)[input])  # One-Hot Encoding\n",
    "        target_batch.append(target)\n",
    "  \n",
    "    return input_batch, target_batch\n",
    "\n",
    "input_batch, target_batch = make_batch(sentences)\n",
    "input_batch = torch.tensor(input_batch, dtype=torch.float32, requires_grad=True)\n",
    "target_batch = torch.tensor(target_batch, dtype=torch.int64)"
   ]
  },
  {
   "cell_type": "markdown",
   "id": "fc5a6cf7",
   "metadata": {},
   "source": [
    "TextLSTM"
   ]
  },
  {
   "cell_type": "code",
   "execution_count": 13,
   "id": "619e1b56",
   "metadata": {},
   "outputs": [],
   "source": [
    "class TextLSTM(nn.Module):\n",
    "    def __init__(self):\n",
    "        super(TextLSTM, self).__init__()\n",
    "\n",
    "        self.lstm = # LSTM 모듈\n",
    "        self.W = # Linear Layer의 weight\n",
    "        self.b = # Linear Layer의 bias\n",
    "\n",
    "    def forward(self, hidden_and_cell, X):\n",
    "        X = X.transpose(0, 1) # 데이터 transpose\n",
    "        \n",
    "        ####################################################\n",
    "        \n",
    "        \n",
    "        # MAKE YOUR OWN CODE\n",
    "        \n",
    "        \n",
    "        ####################################################\n",
    "        return model"
   ]
  },
  {
   "cell_type": "markdown",
   "id": "09d50f6e",
   "metadata": {},
   "source": [
    "TRAINING"
   ]
  },
  {
   "cell_type": "code",
   "execution_count": 14,
   "id": "c396cc52",
   "metadata": {},
   "outputs": [
    {
     "name": "stdout",
     "output_type": "stream",
     "text": [
      "Epoch: 0100 cost = 0.576974\n",
      "Epoch: 0200 cost = 0.071690\n",
      "Epoch: 0300 cost = 0.020418\n",
      "Epoch: 0400 cost = 0.010973\n",
      "Epoch: 0500 cost = 0.007138\n",
      "OPTIMIZATION FINISHED\n"
     ]
    }
   ],
   "source": [
    "model = # Model 정의\n",
    "criterion = # Loss는 Cross Entropy Loss\n",
    "optimizer = # Adam Optimizer\n",
    "\n",
    "for epoch in range(500):\n",
    "    ##################################################################\n",
    "    \n",
    "    \n",
    "    \n",
    "    \n",
    "    # MAKE YOUR OWN CODES FOR TRAINING\n",
    "    # YOUR CODE SHOULD CONTAIN OUPUT, LOSS, OPTIMIZER.\n",
    "    \n",
    "    \n",
    "    \n",
    "    \n",
    "    ##################################################################\n",
    "print ('OPTIMIZATION FINISHED')"
   ]
  },
  {
   "cell_type": "markdown",
   "id": "f79e8cc4",
   "metadata": {},
   "source": [
    "TEST"
   ]
  },
  {
   "cell_type": "code",
   "execution_count": 15,
   "id": "bb2a0242",
   "metadata": {},
   "outputs": [
    {
     "name": "stdout",
     "output_type": "stream",
     "text": [
      "[['i', 'like'], ['i', 'love'], ['i', 'hate'], ['you', 'like'], ['you', 'love'], ['you', 'hate']] -> ['dog', 'coffee', 'milk', 'cat', 'milk', 'coffee']\n"
     ]
    }
   ],
   "source": [
    "input = [sen.split()[:2] for sen in sentences]\n",
    "\n",
    "hidden = torch.zeros(1, batch_size, n_hidden, requires_grad=True)\n",
    "cell = torch.zeros(1, batch_size, n_hidden, requires_grad=True)\n",
    "predict = model((hidden, cell), input_batch).data.max(1, keepdim=True)[1]\n",
    "print([sen.split()[:2] for sen in sentences], '->', [number_dict[n.item()] for n in predict.squeeze()])"
   ]
  }
 ],
 "metadata": {
  "kernelspec": {
   "display_name": "Python 3",
   "language": "python",
   "name": "python3"
  },
  "language_info": {
   "codemirror_mode": {
    "name": "ipython",
    "version": 3
   },
   "file_extension": ".py",
   "mimetype": "text/x-python",
   "name": "python",
   "nbconvert_exporter": "python",
   "pygments_lexer": "ipython3",
   "version": "3.8.8"
  }
 },
 "nbformat": 4,
 "nbformat_minor": 5
}
